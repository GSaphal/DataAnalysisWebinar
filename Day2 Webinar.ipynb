{
 "cells": [
  {
   "cell_type": "markdown",
   "metadata": {},
   "source": [
    "# Day 2 of Data Analysis Webinar\n",
    "\n",
    "## Firstly Lets Start by covering up the topics we studied yesterday\n"
   ]
  },
  {
   "cell_type": "markdown",
   "metadata": {},
   "source": [
    "### Introduction to Jupyter Notebook\n",
    "\n",
    "* Jupyter Notebook has a cell for operations. Each cell has 2 mode of Operation:Command Mode which is represented by blue border and coding mode/edit mode which is represented by green border.\n",
    "\n",
    "* In command mode, we can have various shortcuts like\n",
    "   \n",
    "    * B-> Adds a new Cell below\n",
    "    * A-> Adds a new Cell above\n",
    "    * M-> Makes the Cell as Markdown/Comment \n",
    "    * DD-> Deleting the Cell\n",
    "  \n",
    "  "
   ]
  },
  {
   "cell_type": "markdown",
   "metadata": {},
   "source": [
    "In edit mode, we write the code and have various shortcuts like\n",
    " *  CTRL+Enter ->  Execute a Cell\n",
    " * ALT + Enter -> Execute a new cell and insert a new cell"
   ]
  },
  {
   "cell_type": "code",
   "execution_count": 3,
   "metadata": {},
   "outputs": [
    {
     "name": "stdout",
     "output_type": "stream",
     "text": [
      "Hello\n"
     ]
    }
   ],
   "source": [
    "print('Hello')"
   ]
  },
  {
   "cell_type": "markdown",
   "metadata": {},
   "source": [
    "# Introduction to Python Programming"
   ]
  },
  {
   "cell_type": "markdown",
   "metadata": {},
   "source": [
    "Things that we have covered:\n",
    "    *  Printing\n",
    "    *  Variables\n",
    "    *  Input using Python\n",
    "    *  Lists\n",
    "    *  Accessing the lists \n",
    "    *  Tuples\n",
    "    *  Dictonary\n",
    "    *  Arithmetic Operations\n",
    "     * Conditional Statements\n",
    "     * Looping\n",
    "     * Functions"
   ]
  },
  {
   "cell_type": "code",
   "execution_count": 4,
   "metadata": {},
   "outputs": [
    {
     "name": "stdout",
     "output_type": "stream",
     "text": [
      "Hello World\n"
     ]
    }
   ],
   "source": [
    "print(\"Hello World\")"
   ]
  },
  {
   "cell_type": "code",
   "execution_count": 9,
   "metadata": {},
   "outputs": [
    {
     "name": "stdout",
     "output_type": "stream",
     "text": [
      "Saphal\n"
     ]
    }
   ],
   "source": [
    "#Define a variable by assigning the value to the name\n",
    "a=\"Saphal\"\n",
    "print(a)"
   ]
  },
  {
   "cell_type": "code",
   "execution_count": 10,
   "metadata": {},
   "outputs": [
    {
     "data": {
      "text/plain": [
       "str"
      ]
     },
     "execution_count": 10,
     "metadata": {},
     "output_type": "execute_result"
    }
   ],
   "source": [
    "type(a)"
   ]
  },
  {
   "cell_type": "code",
   "execution_count": 14,
   "metadata": {},
   "outputs": [
    {
     "name": "stdout",
     "output_type": "stream",
     "text": [
      "Enter a Number\n",
      "2\n",
      "Enter another number3\n",
      "The sum of numbers is 5\n"
     ]
    }
   ],
   "source": [
    "#Take Input in Python\n",
    "print('Enter a Number')\n",
    "\n",
    "#input() always results in string value\n",
    "a=input()\n",
    "\n",
    "#Another way of defining input\n",
    "b=input('Enter another number')\n",
    "#Typecast\n",
    "a=int(a)\n",
    "b=int(b)\n",
    "print('The sum of numbers is',a+b)"
   ]
  },
  {
   "cell_type": "code",
   "execution_count": 13,
   "metadata": {},
   "outputs": [
    {
     "data": {
      "text/plain": [
       "str"
      ]
     },
     "execution_count": 13,
     "metadata": {},
     "output_type": "execute_result"
    }
   ],
   "source": [
    "type(a)"
   ]
  },
  {
   "cell_type": "code",
   "execution_count": 15,
   "metadata": {},
   "outputs": [],
   "source": [
    "#Lists in Python are same as array in C but much more powerful and versatile but consumes more memory\n",
    "a=[1,2,3,'Saphal',1.5]"
   ]
  },
  {
   "cell_type": "code",
   "execution_count": 16,
   "metadata": {},
   "outputs": [
    {
     "data": {
      "text/plain": [
       "[1, 2, 3, 'Saphal', 1.5]"
      ]
     },
     "execution_count": 16,
     "metadata": {},
     "output_type": "execute_result"
    }
   ],
   "source": [
    "a"
   ]
  },
  {
   "cell_type": "code",
   "execution_count": 17,
   "metadata": {},
   "outputs": [
    {
     "data": {
      "text/plain": [
       "list"
      ]
     },
     "execution_count": 17,
     "metadata": {},
     "output_type": "execute_result"
    }
   ],
   "source": [
    "type(a)"
   ]
  },
  {
   "cell_type": "code",
   "execution_count": 19,
   "metadata": {},
   "outputs": [
    {
     "data": {
      "text/plain": [
       "3"
      ]
     },
     "execution_count": 19,
     "metadata": {},
     "output_type": "execute_result"
    }
   ],
   "source": [
    "#Accessing the list\n",
    "a[2]"
   ]
  },
  {
   "cell_type": "code",
   "execution_count": 21,
   "metadata": {},
   "outputs": [
    {
     "data": {
      "text/plain": [
       "'Saphal'"
      ]
     },
     "execution_count": 21,
     "metadata": {},
     "output_type": "execute_result"
    }
   ],
   "source": [
    "# Negative indexing starts the list from last\n",
    "a[-2]"
   ]
  },
  {
   "cell_type": "code",
   "execution_count": 22,
   "metadata": {},
   "outputs": [
    {
     "data": {
      "text/plain": [
       "[1, 2, 3]"
      ]
     },
     "execution_count": 22,
     "metadata": {},
     "output_type": "execute_result"
    }
   ],
   "source": [
    "#We can define range to access the value from lists. \n",
    "#Please note that 0:3 are index of the list not the value and the last index is excluded.\n",
    "# Index 0,1,2\n",
    "a[0:3]"
   ]
  },
  {
   "cell_type": "code",
   "execution_count": null,
   "metadata": {},
   "outputs": [],
   "source": [
    "#changing the value of list"
   ]
  },
  {
   "cell_type": "code",
   "execution_count": 23,
   "metadata": {},
   "outputs": [
    {
     "data": {
      "text/plain": [
       "[1, 2, 3, 'Saphal', 1.5]"
      ]
     },
     "execution_count": 23,
     "metadata": {},
     "output_type": "execute_result"
    }
   ],
   "source": [
    "a"
   ]
  },
  {
   "cell_type": "code",
   "execution_count": 24,
   "metadata": {},
   "outputs": [],
   "source": [
    "a[0]=\"Kathford\""
   ]
  },
  {
   "cell_type": "code",
   "execution_count": 26,
   "metadata": {},
   "outputs": [
    {
     "data": {
      "text/plain": [
       "['Kathford', 2, 3, 'Saphal', 1.5]"
      ]
     },
     "execution_count": 26,
     "metadata": {},
     "output_type": "execute_result"
    }
   ],
   "source": [
    "a"
   ]
  },
  {
   "cell_type": "code",
   "execution_count": null,
   "metadata": {},
   "outputs": [],
   "source": [
    "#Tuples and list are almost same but we cannot modify the value of tuples."
   ]
  },
  {
   "cell_type": "code",
   "execution_count": 27,
   "metadata": {},
   "outputs": [],
   "source": [
    "b=(1,2,3,'Saphal',1.5)"
   ]
  },
  {
   "cell_type": "code",
   "execution_count": 28,
   "metadata": {},
   "outputs": [
    {
     "data": {
      "text/plain": [
       "(1, 2, 3, 'Saphal', 1.5)"
      ]
     },
     "execution_count": 28,
     "metadata": {},
     "output_type": "execute_result"
    }
   ],
   "source": [
    "b"
   ]
  },
  {
   "cell_type": "code",
   "execution_count": 29,
   "metadata": {},
   "outputs": [
    {
     "data": {
      "text/plain": [
       "1"
      ]
     },
     "execution_count": 29,
     "metadata": {},
     "output_type": "execute_result"
    }
   ],
   "source": [
    "b[0]"
   ]
  },
  {
   "cell_type": "code",
   "execution_count": 30,
   "metadata": {},
   "outputs": [
    {
     "ename": "TypeError",
     "evalue": "'tuple' object does not support item assignment",
     "output_type": "error",
     "traceback": [
      "\u001b[1;31m---------------------------------------------------------------------------\u001b[0m",
      "\u001b[1;31mTypeError\u001b[0m                                 Traceback (most recent call last)",
      "\u001b[1;32m<ipython-input-30-2aebdf4fa0c6>\u001b[0m in \u001b[0;36m<module>\u001b[1;34m\u001b[0m\n\u001b[1;32m----> 1\u001b[1;33m \u001b[0mb\u001b[0m\u001b[1;33m[\u001b[0m\u001b[1;36m1\u001b[0m\u001b[1;33m]\u001b[0m\u001b[1;33m=\u001b[0m\u001b[1;34m\"Kathford\"\u001b[0m\u001b[1;33m\u001b[0m\u001b[1;33m\u001b[0m\u001b[0m\n\u001b[0m",
      "\u001b[1;31mTypeError\u001b[0m: 'tuple' object does not support item assignment"
     ]
    }
   ],
   "source": [
    "b[1]=\"Kathford\""
   ]
  },
  {
   "cell_type": "code",
   "execution_count": 34,
   "metadata": {},
   "outputs": [
    {
     "data": {
      "text/plain": [
       "(2, 3, 'Saphal')"
      ]
     },
     "execution_count": 34,
     "metadata": {},
     "output_type": "execute_result"
    }
   ],
   "source": [
    "b[1:-1]"
   ]
  },
  {
   "cell_type": "code",
   "execution_count": null,
   "metadata": {},
   "outputs": [],
   "source": [
    "#Dictonary is much more powerful datatype in Python which gives us key value vair i.e we can set the index by ourself."
   ]
  },
  {
   "cell_type": "code",
   "execution_count": 36,
   "metadata": {},
   "outputs": [],
   "source": [
    "#{'key':'value'}\n",
    "c={'Saphal':20,'Smiriti':22,'Rojal':24}"
   ]
  },
  {
   "cell_type": "code",
   "execution_count": 37,
   "metadata": {},
   "outputs": [
    {
     "data": {
      "text/plain": [
       "{'Saphal': 20, 'Smiriti': 22, 'Rojal': 24}"
      ]
     },
     "execution_count": 37,
     "metadata": {},
     "output_type": "execute_result"
    }
   ],
   "source": [
    "c"
   ]
  },
  {
   "cell_type": "code",
   "execution_count": 38,
   "metadata": {},
   "outputs": [
    {
     "data": {
      "text/plain": [
       "20"
      ]
     },
     "execution_count": 38,
     "metadata": {},
     "output_type": "execute_result"
    }
   ],
   "source": [
    "#[0:3]\n",
    "c['Saphal']"
   ]
  },
  {
   "cell_type": "code",
   "execution_count": 45,
   "metadata": {},
   "outputs": [
    {
     "name": "stdout",
     "output_type": "stream",
     "text": [
      "10Saphal\n"
     ]
    }
   ],
   "source": [
    "#Arithmetic Operations\n",
    "a=10\n",
    "b=20\n",
    "c=\"Saphal\"\n",
    "print(str(a)+c)"
   ]
  },
  {
   "cell_type": "code",
   "execution_count": 53,
   "metadata": {},
   "outputs": [
    {
     "name": "stdout",
     "output_type": "stream",
     "text": [
      "Ok\n"
     ]
    }
   ],
   "source": [
    "#Conditional Statements\n",
    "a=6\n",
    "if(a==5):\n",
    "    print('true')\n",
    "elif(a==6):\n",
    "        print('Ok')\n",
    "else:\n",
    "    print('false')\n"
   ]
  },
  {
   "cell_type": "code",
   "execution_count": 47,
   "metadata": {},
   "outputs": [
    {
     "name": "stdout",
     "output_type": "stream",
     "text": [
      "1\n",
      "2\n",
      "3\n",
      "4\n"
     ]
    }
   ],
   "source": [
    "#For Loops  \n",
    "for i in range(1,5):\n",
    "    print(i)"
   ]
  },
  {
   "cell_type": "code",
   "execution_count": 49,
   "metadata": {},
   "outputs": [
    {
     "name": "stdout",
     "output_type": "stream",
     "text": [
      "0\n",
      "1\n",
      "2\n",
      "3\n",
      "4\n"
     ]
    }
   ],
   "source": [
    "#while loops \n",
    "j=0\n",
    "while(j<5):\n",
    "    print(j)\n",
    "    #no ++ or -- operators in python\n",
    "    j+=1\n",
    " "
   ]
  },
  {
   "cell_type": "code",
   "execution_count": 51,
   "metadata": {},
   "outputs": [
    {
     "name": "stdout",
     "output_type": "stream",
     "text": [
      "5\n"
     ]
    }
   ],
   "source": [
    "#functions in python\n",
    "#scope of function\n",
    "def average(num1,num2):\n",
    "    return num1+num2\n",
    "#end scope of function\n",
    "a=average(2,3)\n",
    "print(a)##Fucnction "
   ]
  },
  {
   "cell_type": "markdown",
   "metadata": {},
   "source": [
    "## Introduction to Numpy\n",
    "\n",
    "* Create Numpy Array\n",
    "* Access the Array\n",
    "* Different Types of Array\n",
    "* Mathematics\n",
    "* Linear Algebra "
   ]
  },
  {
   "cell_type": "markdown",
   "metadata": {},
   "source": [
    "Data Manipulation \n",
    "28"
   ]
  },
  {
   "cell_type": "markdown",
   "metadata": {},
   "source": [
    "conda install numpy/\n",
    "pip install numpy"
   ]
  },
  {
   "cell_type": "code",
   "execution_count": 54,
   "metadata": {},
   "outputs": [],
   "source": [
    "import numpy as np"
   ]
  },
  {
   "cell_type": "code",
   "execution_count": 55,
   "metadata": {},
   "outputs": [],
   "source": [
    "#Creating a Numpy Array\n",
    "# np.array([List])\n",
    "a=np.array([1,2,3,4,5])"
   ]
  },
  {
   "cell_type": "code",
   "execution_count": 56,
   "metadata": {},
   "outputs": [
    {
     "data": {
      "text/plain": [
       "array([1, 2, 3, 4, 5])"
      ]
     },
     "execution_count": 56,
     "metadata": {},
     "output_type": "execute_result"
    }
   ],
   "source": [
    "a"
   ]
  },
  {
   "cell_type": "code",
   "execution_count": 57,
   "metadata": {},
   "outputs": [
    {
     "data": {
      "text/plain": [
       "numpy.ndarray"
      ]
     },
     "execution_count": 57,
     "metadata": {},
     "output_type": "execute_result"
    }
   ],
   "source": [
    "type(a)"
   ]
  },
  {
   "cell_type": "code",
   "execution_count": 58,
   "metadata": {},
   "outputs": [
    {
     "data": {
      "text/plain": [
       "(5,)"
      ]
     },
     "execution_count": 58,
     "metadata": {},
     "output_type": "execute_result"
    }
   ],
   "source": [
    "#gives the shape of array\n",
    "a.shape"
   ]
  },
  {
   "cell_type": "code",
   "execution_count": 59,
   "metadata": {},
   "outputs": [],
   "source": [
    "#creating a 2d numpy array\n",
    "#np.array([[list1][list2]])\n",
    "b=np.array([[1,2,3,4,5],[6,7,8,9,10]])"
   ]
  },
  {
   "cell_type": "code",
   "execution_count": 60,
   "metadata": {},
   "outputs": [
    {
     "data": {
      "text/plain": [
       "array([[ 1,  2,  3,  4,  5],\n",
       "       [ 6,  7,  8,  9, 10]])"
      ]
     },
     "execution_count": 60,
     "metadata": {},
     "output_type": "execute_result"
    }
   ],
   "source": [
    "b"
   ]
  },
  {
   "cell_type": "code",
   "execution_count": 61,
   "metadata": {},
   "outputs": [
    {
     "data": {
      "text/plain": [
       "numpy.ndarray"
      ]
     },
     "execution_count": 61,
     "metadata": {},
     "output_type": "execute_result"
    }
   ],
   "source": [
    "type(b)"
   ]
  },
  {
   "cell_type": "code",
   "execution_count": 62,
   "metadata": {},
   "outputs": [
    {
     "data": {
      "text/plain": [
       "(2, 5)"
      ]
     },
     "execution_count": 62,
     "metadata": {},
     "output_type": "execute_result"
    }
   ],
   "source": [
    "b.shape"
   ]
  },
  {
   "cell_type": "code",
   "execution_count": 63,
   "metadata": {},
   "outputs": [
    {
     "data": {
      "text/plain": [
       "dtype('int32')"
      ]
     },
     "execution_count": 63,
     "metadata": {},
     "output_type": "execute_result"
    }
   ],
   "source": [
    "b.dtype"
   ]
  },
  {
   "cell_type": "code",
   "execution_count": 64,
   "metadata": {},
   "outputs": [],
   "source": [
    "l=np.array([1,2,3,4,5],dtype=\"int16\")"
   ]
  },
  {
   "cell_type": "code",
   "execution_count": 65,
   "metadata": {},
   "outputs": [
    {
     "data": {
      "text/plain": [
       "array([1, 2, 3, 4, 5], dtype=int16)"
      ]
     },
     "execution_count": 65,
     "metadata": {},
     "output_type": "execute_result"
    }
   ],
   "source": [
    "l"
   ]
  },
  {
   "cell_type": "code",
   "execution_count": 66,
   "metadata": {},
   "outputs": [
    {
     "data": {
      "text/plain": [
       "dtype('int16')"
      ]
     },
     "execution_count": 66,
     "metadata": {},
     "output_type": "execute_result"
    }
   ],
   "source": [
    "l.dtype"
   ]
  },
  {
   "cell_type": "code",
   "execution_count": 67,
   "metadata": {},
   "outputs": [
    {
     "data": {
      "text/plain": [
       "array([1, 2, 3, 4, 5])"
      ]
     },
     "execution_count": 67,
     "metadata": {},
     "output_type": "execute_result"
    }
   ],
   "source": [
    "a"
   ]
  },
  {
   "cell_type": "code",
   "execution_count": 70,
   "metadata": {},
   "outputs": [
    {
     "data": {
      "text/plain": [
       "5"
      ]
     },
     "execution_count": 70,
     "metadata": {},
     "output_type": "execute_result"
    }
   ],
   "source": [
    "a[-1]"
   ]
  },
  {
   "cell_type": "code",
   "execution_count": 73,
   "metadata": {},
   "outputs": [
    {
     "data": {
      "text/plain": [
       "array([2, 3, 4])"
      ]
     },
     "execution_count": 73,
     "metadata": {},
     "output_type": "execute_result"
    }
   ],
   "source": [
    "a[1:-1]"
   ]
  },
  {
   "cell_type": "code",
   "execution_count": 74,
   "metadata": {},
   "outputs": [
    {
     "data": {
      "text/plain": [
       "array([[ 1,  2,  3,  4,  5],\n",
       "       [ 6,  7,  8,  9, 10]])"
      ]
     },
     "execution_count": 74,
     "metadata": {},
     "output_type": "execute_result"
    }
   ],
   "source": [
    "b"
   ]
  },
  {
   "cell_type": "code",
   "execution_count": 75,
   "metadata": {},
   "outputs": [
    {
     "data": {
      "text/plain": [
       "1"
      ]
     },
     "execution_count": 75,
     "metadata": {},
     "output_type": "execute_result"
    }
   ],
   "source": [
    "#accessing a 2d Array\n",
    "# ar_name[row,column]\n",
    "b[0,0]\n"
   ]
  },
  {
   "cell_type": "code",
   "execution_count": 76,
   "metadata": {},
   "outputs": [
    {
     "data": {
      "text/plain": [
       "array([[1, 2],\n",
       "       [6, 7]])"
      ]
     },
     "execution_count": 76,
     "metadata": {},
     "output_type": "execute_result"
    }
   ],
   "source": [
    "b[0:2,0:2]"
   ]
  },
  {
   "cell_type": "code",
   "execution_count": null,
   "metadata": {},
   "outputs": [],
   "source": [
    "#different types of Matrices"
   ]
  },
  {
   "cell_type": "code",
   "execution_count": 78,
   "metadata": {},
   "outputs": [
    {
     "data": {
      "text/plain": [
       "array([[0., 0., 0., 0., 0.],\n",
       "       [0., 0., 0., 0., 0.],\n",
       "       [0., 0., 0., 0., 0.],\n",
       "       [0., 0., 0., 0., 0.],\n",
       "       [0., 0., 0., 0., 0.]])"
      ]
     },
     "execution_count": 78,
     "metadata": {},
     "output_type": "execute_result"
    }
   ],
   "source": [
    "#matrix with all zeros\n",
    "np.zeros((5,5))"
   ]
  },
  {
   "cell_type": "code",
   "execution_count": 79,
   "metadata": {},
   "outputs": [
    {
     "data": {
      "text/plain": [
       "array([[1., 1., 1.],\n",
       "       [1., 1., 1.]])"
      ]
     },
     "execution_count": 79,
     "metadata": {},
     "output_type": "execute_result"
    }
   ],
   "source": [
    "#matrix with all ones\n",
    "np.ones((2,3 ))"
   ]
  },
  {
   "cell_type": "code",
   "execution_count": 82,
   "metadata": {},
   "outputs": [
    {
     "data": {
      "text/plain": [
       "array([[12, 12, 12],\n",
       "       [12, 12, 12],\n",
       "       [12, 12, 12],\n",
       "       [12, 12, 12]])"
      ]
     },
     "execution_count": 82,
     "metadata": {},
     "output_type": "execute_result"
    }
   ],
   "source": [
    "#matrix with your own number\n",
    "np.full((4,3),12)"
   ]
  },
  {
   "cell_type": "code",
   "execution_count": 84,
   "metadata": {},
   "outputs": [
    {
     "data": {
      "text/plain": [
       "array([[0.3729738 , 0.1777665 ],\n",
       "       [0.78143314, 0.68584191]])"
      ]
     },
     "execution_count": 84,
     "metadata": {},
     "output_type": "execute_result"
    }
   ],
   "source": [
    "#Matrix with random number\n",
    "np.random.rand(2,2)"
   ]
  },
  {
   "cell_type": "code",
   "execution_count": 85,
   "metadata": {},
   "outputs": [
    {
     "data": {
      "text/plain": [
       "array([[1., 0., 0.],\n",
       "       [0., 1., 0.],\n",
       "       [0., 0., 1.]])"
      ]
     },
     "execution_count": 85,
     "metadata": {},
     "output_type": "execute_result"
    }
   ],
   "source": [
    "#Identity Matrix\n",
    "np.identity(3)"
   ]
  },
  {
   "cell_type": "code",
   "execution_count": 86,
   "metadata": {},
   "outputs": [],
   "source": [
    "# Mathematics in Numpy\n",
    "a=np.array([2,4,6,8,10])"
   ]
  },
  {
   "cell_type": "code",
   "execution_count": 87,
   "metadata": {},
   "outputs": [
    {
     "data": {
      "text/plain": [
       "array([ 2,  4,  6,  8, 10])"
      ]
     },
     "execution_count": 87,
     "metadata": {},
     "output_type": "execute_result"
    }
   ],
   "source": [
    "a"
   ]
  },
  {
   "cell_type": "code",
   "execution_count": 92,
   "metadata": {},
   "outputs": [
    {
     "data": {
      "text/plain": [
       "array([  4,  16,  36,  64, 100], dtype=int32)"
      ]
     },
     "execution_count": 92,
     "metadata": {},
     "output_type": "execute_result"
    }
   ],
   "source": [
    "#Arithmetic Operations with Numpy\n",
    "a**2"
   ]
  },
  {
   "cell_type": "code",
   "execution_count": 93,
   "metadata": {},
   "outputs": [],
   "source": [
    "b=np.array([4,5,6,1,3])"
   ]
  },
  {
   "cell_type": "code",
   "execution_count": 94,
   "metadata": {},
   "outputs": [
    {
     "data": {
      "text/plain": [
       "array([ 8, 20, 36,  8, 30])"
      ]
     },
     "execution_count": 94,
     "metadata": {},
     "output_type": "execute_result"
    }
   ],
   "source": [
    "# Operations with 2 numpy array\n",
    "a*b"
   ]
  },
  {
   "cell_type": "code",
   "execution_count": 96,
   "metadata": {},
   "outputs": [
    {
     "data": {
      "text/plain": [
       "array([-0.41614684, -0.65364362,  0.96017029, -0.14550003, -0.83907153])"
      ]
     },
     "execution_count": 96,
     "metadata": {},
     "output_type": "execute_result"
    }
   ],
   "source": [
    "np.cos(a)"
   ]
  },
  {
   "cell_type": "markdown",
   "metadata": {},
   "source": [
    "### Linear Algebra"
   ]
  },
  {
   "cell_type": "code",
   "execution_count": 97,
   "metadata": {},
   "outputs": [],
   "source": [
    "a=np.ones((2,3))"
   ]
  },
  {
   "cell_type": "code",
   "execution_count": 98,
   "metadata": {},
   "outputs": [
    {
     "data": {
      "text/plain": [
       "array([[1., 1., 1.],\n",
       "       [1., 1., 1.]])"
      ]
     },
     "execution_count": 98,
     "metadata": {},
     "output_type": "execute_result"
    }
   ],
   "source": [
    "a"
   ]
  },
  {
   "cell_type": "code",
   "execution_count": 105,
   "metadata": {},
   "outputs": [],
   "source": [
    "b=np.full((3,2),5)"
   ]
  },
  {
   "cell_type": "code",
   "execution_count": 100,
   "metadata": {},
   "outputs": [
    {
     "data": {
      "text/plain": [
       "array([[5, 5],\n",
       "       [5, 5],\n",
       "       [5, 5]])"
      ]
     },
     "execution_count": 100,
     "metadata": {},
     "output_type": "execute_result"
    }
   ],
   "source": [
    "b"
   ]
  },
  {
   "cell_type": "code",
   "execution_count": 106,
   "metadata": {},
   "outputs": [
    {
     "data": {
      "text/plain": [
       "array([[15., 15.],\n",
       "       [15., 15.]])"
      ]
     },
     "execution_count": 106,
     "metadata": {},
     "output_type": "execute_result"
    }
   ],
   "source": [
    "#for the matrix multiplication\n",
    "np.matmul(a,b)"
   ]
  },
  {
   "cell_type": "code",
   "execution_count": 107,
   "metadata": {},
   "outputs": [],
   "source": [
    "c=np.identity(3)"
   ]
  },
  {
   "cell_type": "code",
   "execution_count": 108,
   "metadata": {},
   "outputs": [
    {
     "data": {
      "text/plain": [
       "array([[1., 0., 0.],\n",
       "       [0., 1., 0.],\n",
       "       [0., 0., 1.]])"
      ]
     },
     "execution_count": 108,
     "metadata": {},
     "output_type": "execute_result"
    }
   ],
   "source": [
    "c"
   ]
  },
  {
   "cell_type": "code",
   "execution_count": 109,
   "metadata": {},
   "outputs": [
    {
     "data": {
      "text/plain": [
       "1.0"
      ]
     },
     "execution_count": 109,
     "metadata": {},
     "output_type": "execute_result"
    }
   ],
   "source": [
    "np.linalg.det(c)"
   ]
  },
  {
   "cell_type": "code",
   "execution_count": 110,
   "metadata": {},
   "outputs": [
    {
     "data": {
      "text/plain": [
       "2"
      ]
     },
     "execution_count": 110,
     "metadata": {},
     "output_type": "execute_result"
    }
   ],
   "source": [
    "\n",
    "a=np.array([[2,3,4],[5,6,7]])\n",
    "#Finding minimum \n",
    "np.min(a)"
   ]
  },
  {
   "cell_type": "code",
   "execution_count": 111,
   "metadata": {},
   "outputs": [
    {
     "data": {
      "text/plain": [
       "7"
      ]
     },
     "execution_count": 111,
     "metadata": {},
     "output_type": "execute_result"
    }
   ],
   "source": [
    "#Finding Maximum \n",
    "np.max(a)"
   ]
  },
  {
   "cell_type": "code",
   "execution_count": 112,
   "metadata": {},
   "outputs": [
    {
     "data": {
      "text/plain": [
       "array([[2, 3, 4],\n",
       "       [5, 6, 7]])"
      ]
     },
     "execution_count": 112,
     "metadata": {},
     "output_type": "execute_result"
    }
   ],
   "source": [
    "a"
   ]
  },
  {
   "cell_type": "code",
   "execution_count": 113,
   "metadata": {},
   "outputs": [
    {
     "data": {
      "text/plain": [
       "array([2, 3, 4, 5, 6, 7, 5])"
      ]
     },
     "execution_count": 113,
     "metadata": {},
     "output_type": "execute_result"
    }
   ],
   "source": [
    "#Appending the data in numpy array\n",
    "np.append(a,5)"
   ]
  },
  {
   "cell_type": "code",
   "execution_count": 114,
   "metadata": {},
   "outputs": [],
   "source": [
    "#boolean masking\n",
    "a=np.array([1,2,3,4,5])"
   ]
  },
  {
   "cell_type": "code",
   "execution_count": 115,
   "metadata": {},
   "outputs": [
    {
     "data": {
      "text/plain": [
       "array([1, 2, 3, 4, 5])"
      ]
     },
     "execution_count": 115,
     "metadata": {},
     "output_type": "execute_result"
    }
   ],
   "source": [
    "a"
   ]
  },
  {
   "cell_type": "code",
   "execution_count": 116,
   "metadata": {},
   "outputs": [
    {
     "data": {
      "text/plain": [
       "array([False, False, False,  True,  True])"
      ]
     },
     "execution_count": 116,
     "metadata": {},
     "output_type": "execute_result"
    }
   ],
   "source": [
    "#gives the boolean result\n",
    "a>3"
   ]
  },
  {
   "cell_type": "code",
   "execution_count": 117,
   "metadata": {},
   "outputs": [
    {
     "data": {
      "text/plain": [
       "array([4, 5])"
      ]
     },
     "execution_count": 117,
     "metadata": {},
     "output_type": "execute_result"
    }
   ],
   "source": [
    "a[a>3]"
   ]
  },
  {
   "cell_type": "markdown",
   "metadata": {},
   "source": [
    "Find more about Numpy on its docs: https://numpy.org/doc/1.18/user/quickstart.html"
   ]
  },
  {
   "cell_type": "markdown",
   "metadata": {},
   "source": [
    "## Introduction to Pandas"
   ]
  },
  {
   "cell_type": "markdown",
   "metadata": {},
   "source": [
    "* Series in Pandas\n",
    "* Accessing the Series\n",
    "* Modifying the Series\n",
    "* DataFrame in Pandas\n",
    "* Accessing the DataFrame\n",
    "* Operations with DataFrame"
   ]
  },
  {
   "cell_type": "code",
   "execution_count": 120,
   "metadata": {},
   "outputs": [],
   "source": [
    "import numpy as np\n",
    "import pandas as pd"
   ]
  },
  {
   "cell_type": "markdown",
   "metadata": {},
   "source": [
    "pip install pandas/conda install pandas"
   ]
  },
  {
   "cell_type": "code",
   "execution_count": 121,
   "metadata": {},
   "outputs": [],
   "source": [
    "#creating a series\n",
    "s1=pd.Series([1,2,3,4,5])"
   ]
  },
  {
   "cell_type": "code",
   "execution_count": 122,
   "metadata": {},
   "outputs": [
    {
     "data": {
      "text/plain": [
       "0    1\n",
       "1    2\n",
       "2    3\n",
       "3    4\n",
       "4    5\n",
       "dtype: int64"
      ]
     },
     "execution_count": 122,
     "metadata": {},
     "output_type": "execute_result"
    }
   ],
   "source": [
    "s1"
   ]
  },
  {
   "cell_type": "code",
   "execution_count": 123,
   "metadata": {},
   "outputs": [],
   "source": [
    "#give name to series \n",
    "s1.name=\"Roll No of 5 Students\""
   ]
  },
  {
   "cell_type": "code",
   "execution_count": 124,
   "metadata": {},
   "outputs": [
    {
     "data": {
      "text/plain": [
       "0    1\n",
       "1    2\n",
       "2    3\n",
       "3    4\n",
       "4    5\n",
       "Name: Roll No of 5 Students, dtype: int64"
      ]
     },
     "execution_count": 124,
     "metadata": {},
     "output_type": "execute_result"
    }
   ],
   "source": [
    "s1"
   ]
  },
  {
   "cell_type": "code",
   "execution_count": 125,
   "metadata": {},
   "outputs": [],
   "source": [
    "s1.index={'John','Abishek','Mamta','Nisha','Om'}"
   ]
  },
  {
   "cell_type": "code",
   "execution_count": 126,
   "metadata": {},
   "outputs": [
    {
     "data": {
      "text/plain": [
       "John       1\n",
       "Nisha      2\n",
       "Om         3\n",
       "Mamta      4\n",
       "Abishek    5\n",
       "Name: Roll No of 5 Students, dtype: int64"
      ]
     },
     "execution_count": 126,
     "metadata": {},
     "output_type": "execute_result"
    }
   ],
   "source": [
    "s1"
   ]
  },
  {
   "cell_type": "markdown",
   "metadata": {},
   "source": [
    "Note:  A series looks more like a list or dictonary but it is backed by numpy array and its computation is very fast."
   ]
  },
  {
   "cell_type": "code",
   "execution_count": 130,
   "metadata": {},
   "outputs": [],
   "source": [
    "s2=pd.Series({\n",
    "    'Rojal':20,\n",
    "    'Saphal':21\n",
    "},name=\"Age of 2 Students\")"
   ]
  },
  {
   "cell_type": "code",
   "execution_count": 131,
   "metadata": {},
   "outputs": [
    {
     "data": {
      "text/plain": [
       "Rojal     20\n",
       "Saphal    21\n",
       "Name: Age of 2 Students, dtype: int64"
      ]
     },
     "execution_count": 131,
     "metadata": {},
     "output_type": "execute_result"
    }
   ],
   "source": [
    "s2"
   ]
  },
  {
   "cell_type": "code",
   "execution_count": 132,
   "metadata": {},
   "outputs": [
    {
     "data": {
      "text/plain": [
       "dtype('int64')"
      ]
     },
     "execution_count": 132,
     "metadata": {},
     "output_type": "execute_result"
    }
   ],
   "source": [
    "s2.dtype"
   ]
  },
  {
   "cell_type": "code",
   "execution_count": null,
   "metadata": {},
   "outputs": [],
   "source": [
    "# Accessing the Series"
   ]
  },
  {
   "cell_type": "code",
   "execution_count": 133,
   "metadata": {},
   "outputs": [
    {
     "data": {
      "text/plain": [
       "John       1\n",
       "Nisha      2\n",
       "Om         3\n",
       "Mamta      4\n",
       "Abishek    5\n",
       "Name: Roll No of 5 Students, dtype: int64"
      ]
     },
     "execution_count": 133,
     "metadata": {},
     "output_type": "execute_result"
    }
   ],
   "source": [
    "s1"
   ]
  },
  {
   "cell_type": "code",
   "execution_count": 137,
   "metadata": {},
   "outputs": [
    {
     "data": {
      "text/plain": [
       "5"
      ]
     },
     "execution_count": 137,
     "metadata": {},
     "output_type": "execute_result"
    }
   ],
   "source": [
    "#accesing through index number\n",
    "s1[-1]"
   ]
  },
  {
   "cell_type": "code",
   "execution_count": 135,
   "metadata": {},
   "outputs": [
    {
     "data": {
      "text/plain": [
       "1"
      ]
     },
     "execution_count": 135,
     "metadata": {},
     "output_type": "execute_result"
    }
   ],
   "source": [
    "#accesing through index name\n",
    "s1['John']"
   ]
  },
  {
   "cell_type": "code",
   "execution_count": 136,
   "metadata": {},
   "outputs": [
    {
     "data": {
      "text/plain": [
       "1"
      ]
     },
     "execution_count": 136,
     "metadata": {},
     "output_type": "execute_result"
    }
   ],
   "source": [
    "#searching through index same as s1[0]\n",
    "s1.iloc[0]"
   ]
  },
  {
   "cell_type": "code",
   "execution_count": 139,
   "metadata": {},
   "outputs": [
    {
     "data": {
      "text/plain": [
       "John     1\n",
       "Nisha    2\n",
       "Om       3\n",
       "Name: Roll No of 5 Students, dtype: int64"
      ]
     },
     "execution_count": 139,
     "metadata": {},
     "output_type": "execute_result"
    }
   ],
   "source": [
    "#the only difference is last value is included here\n",
    "#[0:3] 0,1,2\n",
    "s1['John':'Om']"
   ]
  },
  {
   "cell_type": "code",
   "execution_count": 140,
   "metadata": {},
   "outputs": [
    {
     "data": {
      "text/plain": [
       "John     1\n",
       "Nisha    2\n",
       "Om       3\n",
       "Name: Roll No of 5 Students, dtype: int64"
      ]
     },
     "execution_count": 140,
     "metadata": {},
     "output_type": "execute_result"
    }
   ],
   "source": [
    "s1.iloc[0:3]"
   ]
  },
  {
   "cell_type": "code",
   "execution_count": 141,
   "metadata": {},
   "outputs": [
    {
     "data": {
      "text/plain": [
       "John       1\n",
       "Nisha      2\n",
       "Om         3\n",
       "Mamta      4\n",
       "Abishek    5\n",
       "Name: Roll No of 5 Students, dtype: int64"
      ]
     },
     "execution_count": 141,
     "metadata": {},
     "output_type": "execute_result"
    }
   ],
   "source": [
    "s1"
   ]
  },
  {
   "cell_type": "code",
   "execution_count": 142,
   "metadata": {},
   "outputs": [
    {
     "data": {
      "text/plain": [
       "John       False\n",
       "Nisha      False\n",
       "Om         False\n",
       "Mamta       True\n",
       "Abishek     True\n",
       "Name: Roll No of 5 Students, dtype: bool"
      ]
     },
     "execution_count": 142,
     "metadata": {},
     "output_type": "execute_result"
    }
   ],
   "source": [
    "s1>3"
   ]
  },
  {
   "cell_type": "code",
   "execution_count": 143,
   "metadata": {},
   "outputs": [
    {
     "data": {
      "text/plain": [
       "Mamta      4\n",
       "Abishek    5\n",
       "Name: Roll No of 5 Students, dtype: int64"
      ]
     },
     "execution_count": 143,
     "metadata": {},
     "output_type": "execute_result"
    }
   ],
   "source": [
    "s1[s1>3]"
   ]
  },
  {
   "cell_type": "code",
   "execution_count": 145,
   "metadata": {},
   "outputs": [
    {
     "data": {
      "text/plain": [
       "John       1\n",
       "Nisha      2\n",
       "Om         3\n",
       "Mamta      4\n",
       "Abishek    5\n",
       "Name: Roll No of 5 Students, dtype: int64"
      ]
     },
     "execution_count": 145,
     "metadata": {},
     "output_type": "execute_result"
    }
   ],
   "source": [
    "s1"
   ]
  },
  {
   "cell_type": "code",
   "execution_count": 147,
   "metadata": {},
   "outputs": [
    {
     "data": {
      "text/plain": [
       "John       False\n",
       "Nisha      False\n",
       "Om          True\n",
       "Mamta       True\n",
       "Abishek    False\n",
       "Name: Roll No of 5 Students, dtype: bool"
      ]
     },
     "execution_count": 147,
     "metadata": {},
     "output_type": "execute_result"
    }
   ],
   "source": [
    "#use And, OR or NOt Operator && || !=\n",
    "(s1>=3) & (s1<5)"
   ]
  },
  {
   "cell_type": "code",
   "execution_count": 148,
   "metadata": {},
   "outputs": [
    {
     "data": {
      "text/plain": [
       "Om       3\n",
       "Mamta    4\n",
       "Name: Roll No of 5 Students, dtype: int64"
      ]
     },
     "execution_count": 148,
     "metadata": {},
     "output_type": "execute_result"
    }
   ],
   "source": [
    "s1[(s1>=3) & (s1<5)]"
   ]
  },
  {
   "cell_type": "code",
   "execution_count": 149,
   "metadata": {},
   "outputs": [
    {
     "data": {
      "text/plain": [
       "John       1\n",
       "Nisha      2\n",
       "Om         3\n",
       "Mamta      4\n",
       "Abishek    5\n",
       "Name: Roll No of 5 Students, dtype: int64"
      ]
     },
     "execution_count": 149,
     "metadata": {},
     "output_type": "execute_result"
    }
   ],
   "source": [
    "s1"
   ]
  },
  {
   "cell_type": "code",
   "execution_count": 150,
   "metadata": {},
   "outputs": [
    {
     "data": {
      "text/plain": [
       "John       1\n",
       "Nisha      2\n",
       "Om         4\n",
       "Mamta      4\n",
       "Abishek    5\n",
       "Name: Roll No of 5 Students, dtype: int64"
      ]
     },
     "execution_count": 150,
     "metadata": {},
     "output_type": "execute_result"
    }
   ],
   "source": [
    "#assigning the value\n",
    "s1['Om']=4\n",
    "s1"
   ]
  },
  {
   "cell_type": "markdown",
   "metadata": {},
   "source": [
    "## Dataframes"
   ]
  },
  {
   "cell_type": "markdown",
   "metadata": {},
   "source": [
    "https://docs.google.com/spreadsheets/d/19fF4LlDe8EUZIobORBKeMK1PXuHBpEm90hh6URh5BF8/edit#gid=0"
   ]
  },
  {
   "cell_type": "code",
   "execution_count": 151,
   "metadata": {},
   "outputs": [],
   "source": [
    "#Creating a Data Frame \n",
    "df=pd.DataFrame({\n",
    "    'Name':['Saphal','Smiriti','Rojal'],\n",
    "    'Roll No':[1,2,3]\n",
    "})"
   ]
  },
  {
   "cell_type": "code",
   "execution_count": 152,
   "metadata": {
    "scrolled": true
   },
   "outputs": [
    {
     "data": {
      "text/html": [
       "<div>\n",
       "<style scoped>\n",
       "    .dataframe tbody tr th:only-of-type {\n",
       "        vertical-align: middle;\n",
       "    }\n",
       "\n",
       "    .dataframe tbody tr th {\n",
       "        vertical-align: top;\n",
       "    }\n",
       "\n",
       "    .dataframe thead th {\n",
       "        text-align: right;\n",
       "    }\n",
       "</style>\n",
       "<table border=\"1\" class=\"dataframe\">\n",
       "  <thead>\n",
       "    <tr style=\"text-align: right;\">\n",
       "      <th></th>\n",
       "      <th>Name</th>\n",
       "      <th>Roll No</th>\n",
       "    </tr>\n",
       "  </thead>\n",
       "  <tbody>\n",
       "    <tr>\n",
       "      <th>0</th>\n",
       "      <td>Saphal</td>\n",
       "      <td>1</td>\n",
       "    </tr>\n",
       "    <tr>\n",
       "      <th>1</th>\n",
       "      <td>Smiriti</td>\n",
       "      <td>2</td>\n",
       "    </tr>\n",
       "    <tr>\n",
       "      <th>2</th>\n",
       "      <td>Rojal</td>\n",
       "      <td>3</td>\n",
       "    </tr>\n",
       "  </tbody>\n",
       "</table>\n",
       "</div>"
      ],
      "text/plain": [
       "      Name  Roll No\n",
       "0   Saphal        1\n",
       "1  Smiriti        2\n",
       "2    Rojal        3"
      ]
     },
     "execution_count": 152,
     "metadata": {},
     "output_type": "execute_result"
    }
   ],
   "source": [
    "df"
   ]
  },
  {
   "cell_type": "code",
   "execution_count": 153,
   "metadata": {},
   "outputs": [],
   "source": [
    "#Adding Index to Dataframe\n",
    "df.index=['Kathford','Texas','Himalaya']"
   ]
  },
  {
   "cell_type": "code",
   "execution_count": 154,
   "metadata": {},
   "outputs": [
    {
     "data": {
      "text/html": [
       "<div>\n",
       "<style scoped>\n",
       "    .dataframe tbody tr th:only-of-type {\n",
       "        vertical-align: middle;\n",
       "    }\n",
       "\n",
       "    .dataframe tbody tr th {\n",
       "        vertical-align: top;\n",
       "    }\n",
       "\n",
       "    .dataframe thead th {\n",
       "        text-align: right;\n",
       "    }\n",
       "</style>\n",
       "<table border=\"1\" class=\"dataframe\">\n",
       "  <thead>\n",
       "    <tr style=\"text-align: right;\">\n",
       "      <th></th>\n",
       "      <th>Name</th>\n",
       "      <th>Roll No</th>\n",
       "    </tr>\n",
       "  </thead>\n",
       "  <tbody>\n",
       "    <tr>\n",
       "      <th>Kathford</th>\n",
       "      <td>Saphal</td>\n",
       "      <td>1</td>\n",
       "    </tr>\n",
       "    <tr>\n",
       "      <th>Texas</th>\n",
       "      <td>Smiriti</td>\n",
       "      <td>2</td>\n",
       "    </tr>\n",
       "    <tr>\n",
       "      <th>Himalaya</th>\n",
       "      <td>Rojal</td>\n",
       "      <td>3</td>\n",
       "    </tr>\n",
       "  </tbody>\n",
       "</table>\n",
       "</div>"
      ],
      "text/plain": [
       "             Name  Roll No\n",
       "Kathford   Saphal        1\n",
       "Texas     Smiriti        2\n",
       "Himalaya    Rojal        3"
      ]
     },
     "execution_count": 154,
     "metadata": {},
     "output_type": "execute_result"
    }
   ],
   "source": [
    "df"
   ]
  },
  {
   "cell_type": "code",
   "execution_count": 155,
   "metadata": {},
   "outputs": [
    {
     "data": {
      "text/plain": [
       "(3, 2)"
      ]
     },
     "execution_count": 155,
     "metadata": {},
     "output_type": "execute_result"
    }
   ],
   "source": [
    "#shape of dataframe\n",
    "df.shape"
   ]
  },
  {
   "cell_type": "code",
   "execution_count": 156,
   "metadata": {},
   "outputs": [
    {
     "name": "stdout",
     "output_type": "stream",
     "text": [
      "<class 'pandas.core.frame.DataFrame'>\n",
      "Index: 3 entries, Kathford to Himalaya\n",
      "Data columns (total 2 columns):\n",
      " #   Column   Non-Null Count  Dtype \n",
      "---  ------   --------------  ----- \n",
      " 0   Name     3 non-null      object\n",
      " 1   Roll No  3 non-null      int64 \n",
      "dtypes: int64(1), object(1)\n",
      "memory usage: 72.0+ bytes\n"
     ]
    }
   ],
   "source": [
    "#information about dataframe object=string\n",
    "df.info()"
   ]
  },
  {
   "cell_type": "code",
   "execution_count": 157,
   "metadata": {},
   "outputs": [
    {
     "data": {
      "text/html": [
       "<div>\n",
       "<style scoped>\n",
       "    .dataframe tbody tr th:only-of-type {\n",
       "        vertical-align: middle;\n",
       "    }\n",
       "\n",
       "    .dataframe tbody tr th {\n",
       "        vertical-align: top;\n",
       "    }\n",
       "\n",
       "    .dataframe thead th {\n",
       "        text-align: right;\n",
       "    }\n",
       "</style>\n",
       "<table border=\"1\" class=\"dataframe\">\n",
       "  <thead>\n",
       "    <tr style=\"text-align: right;\">\n",
       "      <th></th>\n",
       "      <th>Roll No</th>\n",
       "    </tr>\n",
       "  </thead>\n",
       "  <tbody>\n",
       "    <tr>\n",
       "      <th>count</th>\n",
       "      <td>3.0</td>\n",
       "    </tr>\n",
       "    <tr>\n",
       "      <th>mean</th>\n",
       "      <td>2.0</td>\n",
       "    </tr>\n",
       "    <tr>\n",
       "      <th>std</th>\n",
       "      <td>1.0</td>\n",
       "    </tr>\n",
       "    <tr>\n",
       "      <th>min</th>\n",
       "      <td>1.0</td>\n",
       "    </tr>\n",
       "    <tr>\n",
       "      <th>25%</th>\n",
       "      <td>1.5</td>\n",
       "    </tr>\n",
       "    <tr>\n",
       "      <th>50%</th>\n",
       "      <td>2.0</td>\n",
       "    </tr>\n",
       "    <tr>\n",
       "      <th>75%</th>\n",
       "      <td>2.5</td>\n",
       "    </tr>\n",
       "    <tr>\n",
       "      <th>max</th>\n",
       "      <td>3.0</td>\n",
       "    </tr>\n",
       "  </tbody>\n",
       "</table>\n",
       "</div>"
      ],
      "text/plain": [
       "       Roll No\n",
       "count      3.0\n",
       "mean       2.0\n",
       "std        1.0\n",
       "min        1.0\n",
       "25%        1.5\n",
       "50%        2.0\n",
       "75%        2.5\n",
       "max        3.0"
      ]
     },
     "execution_count": 157,
     "metadata": {},
     "output_type": "execute_result"
    }
   ],
   "source": [
    "#describe the data\n",
    "df.describe()"
   ]
  },
  {
   "cell_type": "code",
   "execution_count": null,
   "metadata": {},
   "outputs": [],
   "source": [
    "#Indexing "
   ]
  },
  {
   "cell_type": "code",
   "execution_count": 158,
   "metadata": {},
   "outputs": [
    {
     "data": {
      "text/html": [
       "<div>\n",
       "<style scoped>\n",
       "    .dataframe tbody tr th:only-of-type {\n",
       "        vertical-align: middle;\n",
       "    }\n",
       "\n",
       "    .dataframe tbody tr th {\n",
       "        vertical-align: top;\n",
       "    }\n",
       "\n",
       "    .dataframe thead th {\n",
       "        text-align: right;\n",
       "    }\n",
       "</style>\n",
       "<table border=\"1\" class=\"dataframe\">\n",
       "  <thead>\n",
       "    <tr style=\"text-align: right;\">\n",
       "      <th></th>\n",
       "      <th>Name</th>\n",
       "      <th>Roll No</th>\n",
       "    </tr>\n",
       "  </thead>\n",
       "  <tbody>\n",
       "    <tr>\n",
       "      <th>Kathford</th>\n",
       "      <td>Saphal</td>\n",
       "      <td>1</td>\n",
       "    </tr>\n",
       "    <tr>\n",
       "      <th>Texas</th>\n",
       "      <td>Smiriti</td>\n",
       "      <td>2</td>\n",
       "    </tr>\n",
       "    <tr>\n",
       "      <th>Himalaya</th>\n",
       "      <td>Rojal</td>\n",
       "      <td>3</td>\n",
       "    </tr>\n",
       "  </tbody>\n",
       "</table>\n",
       "</div>"
      ],
      "text/plain": [
       "             Name  Roll No\n",
       "Kathford   Saphal        1\n",
       "Texas     Smiriti        2\n",
       "Himalaya    Rojal        3"
      ]
     },
     "execution_count": 158,
     "metadata": {},
     "output_type": "execute_result"
    }
   ],
   "source": [
    "df"
   ]
  },
  {
   "cell_type": "code",
   "execution_count": 159,
   "metadata": {},
   "outputs": [
    {
     "data": {
      "text/plain": [
       "Kathford     Saphal\n",
       "Texas       Smiriti\n",
       "Himalaya      Rojal\n",
       "Name: Name, dtype: object"
      ]
     },
     "execution_count": 159,
     "metadata": {},
     "output_type": "execute_result"
    }
   ],
   "source": [
    "df['Name']"
   ]
  },
  {
   "cell_type": "code",
   "execution_count": 160,
   "metadata": {},
   "outputs": [
    {
     "data": {
      "text/plain": [
       "Name       Rojal\n",
       "Roll No        3\n",
       "Name: Himalaya, dtype: object"
      ]
     },
     "execution_count": 160,
     "metadata": {},
     "output_type": "execute_result"
    }
   ],
   "source": [
    "#selecting from index number\n",
    "df.iloc[-1]"
   ]
  },
  {
   "cell_type": "code",
   "execution_count": 161,
   "metadata": {},
   "outputs": [
    {
     "data": {
      "text/plain": [
       "Name       Saphal\n",
       "Roll No         1\n",
       "Name: Kathford, dtype: object"
      ]
     },
     "execution_count": 161,
     "metadata": {},
     "output_type": "execute_result"
    }
   ],
   "source": [
    "#selecting from index name\n",
    "df.loc['Kathford']"
   ]
  },
  {
   "cell_type": "code",
   "execution_count": 162,
   "metadata": {},
   "outputs": [
    {
     "data": {
      "text/html": [
       "<div>\n",
       "<style scoped>\n",
       "    .dataframe tbody tr th:only-of-type {\n",
       "        vertical-align: middle;\n",
       "    }\n",
       "\n",
       "    .dataframe tbody tr th {\n",
       "        vertical-align: top;\n",
       "    }\n",
       "\n",
       "    .dataframe thead th {\n",
       "        text-align: right;\n",
       "    }\n",
       "</style>\n",
       "<table border=\"1\" class=\"dataframe\">\n",
       "  <thead>\n",
       "    <tr style=\"text-align: right;\">\n",
       "      <th></th>\n",
       "      <th>Name</th>\n",
       "      <th>Roll No</th>\n",
       "    </tr>\n",
       "  </thead>\n",
       "  <tbody>\n",
       "    <tr>\n",
       "      <th>Kathford</th>\n",
       "      <td>Saphal</td>\n",
       "      <td>1</td>\n",
       "    </tr>\n",
       "    <tr>\n",
       "      <th>Texas</th>\n",
       "      <td>Smiriti</td>\n",
       "      <td>2</td>\n",
       "    </tr>\n",
       "    <tr>\n",
       "      <th>Himalaya</th>\n",
       "      <td>Rojal</td>\n",
       "      <td>3</td>\n",
       "    </tr>\n",
       "  </tbody>\n",
       "</table>\n",
       "</div>"
      ],
      "text/plain": [
       "             Name  Roll No\n",
       "Kathford   Saphal        1\n",
       "Texas     Smiriti        2\n",
       "Himalaya    Rojal        3"
      ]
     },
     "execution_count": 162,
     "metadata": {},
     "output_type": "execute_result"
    }
   ],
   "source": [
    "df"
   ]
  },
  {
   "cell_type": "code",
   "execution_count": null,
   "metadata": {},
   "outputs": [],
   "source": []
  },
  {
   "cell_type": "code",
   "execution_count": 167,
   "metadata": {},
   "outputs": [
    {
     "data": {
      "text/html": [
       "<div>\n",
       "<style scoped>\n",
       "    .dataframe tbody tr th:only-of-type {\n",
       "        vertical-align: middle;\n",
       "    }\n",
       "\n",
       "    .dataframe tbody tr th {\n",
       "        vertical-align: top;\n",
       "    }\n",
       "\n",
       "    .dataframe thead th {\n",
       "        text-align: right;\n",
       "    }\n",
       "</style>\n",
       "<table border=\"1\" class=\"dataframe\">\n",
       "  <thead>\n",
       "    <tr style=\"text-align: right;\">\n",
       "      <th></th>\n",
       "      <th>Name</th>\n",
       "      <th>Roll No</th>\n",
       "    </tr>\n",
       "  </thead>\n",
       "  <tbody>\n",
       "    <tr>\n",
       "      <th>Kathford</th>\n",
       "      <td>Saphal</td>\n",
       "      <td>1</td>\n",
       "    </tr>\n",
       "    <tr>\n",
       "      <th>Texas</th>\n",
       "      <td>Smiriti</td>\n",
       "      <td>2</td>\n",
       "    </tr>\n",
       "    <tr>\n",
       "      <th>Himalaya</th>\n",
       "      <td>Rojal</td>\n",
       "      <td>3</td>\n",
       "    </tr>\n",
       "  </tbody>\n",
       "</table>\n",
       "</div>"
      ],
      "text/plain": [
       "             Name  Roll No\n",
       "Kathford   Saphal        1\n",
       "Texas     Smiriti        2\n",
       "Himalaya    Rojal        3"
      ]
     },
     "execution_count": 167,
     "metadata": {},
     "output_type": "execute_result"
    }
   ],
   "source": [
    "#also includes the last value here\n",
    "df.loc['Kathford':'Himalaya']"
   ]
  },
  {
   "cell_type": "code",
   "execution_count": 165,
   "metadata": {},
   "outputs": [
    {
     "data": {
      "text/plain": [
       "Kathford    False\n",
       "Texas       False\n",
       "Himalaya     True\n",
       "Name: Roll No, dtype: bool"
      ]
     },
     "execution_count": 165,
     "metadata": {},
     "output_type": "execute_result"
    }
   ],
   "source": [
    "#selection using condition\n",
    "df['Roll No']>2"
   ]
  },
  {
   "cell_type": "code",
   "execution_count": 166,
   "metadata": {},
   "outputs": [
    {
     "data": {
      "text/html": [
       "<div>\n",
       "<style scoped>\n",
       "    .dataframe tbody tr th:only-of-type {\n",
       "        vertical-align: middle;\n",
       "    }\n",
       "\n",
       "    .dataframe tbody tr th {\n",
       "        vertical-align: top;\n",
       "    }\n",
       "\n",
       "    .dataframe thead th {\n",
       "        text-align: right;\n",
       "    }\n",
       "</style>\n",
       "<table border=\"1\" class=\"dataframe\">\n",
       "  <thead>\n",
       "    <tr style=\"text-align: right;\">\n",
       "      <th></th>\n",
       "      <th>Name</th>\n",
       "      <th>Roll No</th>\n",
       "    </tr>\n",
       "  </thead>\n",
       "  <tbody>\n",
       "    <tr>\n",
       "      <th>Himalaya</th>\n",
       "      <td>Rojal</td>\n",
       "      <td>3</td>\n",
       "    </tr>\n",
       "  </tbody>\n",
       "</table>\n",
       "</div>"
      ],
      "text/plain": [
       "           Name  Roll No\n",
       "Himalaya  Rojal        3"
      ]
     },
     "execution_count": 166,
     "metadata": {},
     "output_type": "execute_result"
    }
   ],
   "source": [
    "df[df['Roll No']>2]"
   ]
  },
  {
   "cell_type": "code",
   "execution_count": 168,
   "metadata": {},
   "outputs": [
    {
     "data": {
      "text/html": [
       "<div>\n",
       "<style scoped>\n",
       "    .dataframe tbody tr th:only-of-type {\n",
       "        vertical-align: middle;\n",
       "    }\n",
       "\n",
       "    .dataframe tbody tr th {\n",
       "        vertical-align: top;\n",
       "    }\n",
       "\n",
       "    .dataframe thead th {\n",
       "        text-align: right;\n",
       "    }\n",
       "</style>\n",
       "<table border=\"1\" class=\"dataframe\">\n",
       "  <thead>\n",
       "    <tr style=\"text-align: right;\">\n",
       "      <th></th>\n",
       "      <th>Name</th>\n",
       "      <th>Roll No</th>\n",
       "    </tr>\n",
       "  </thead>\n",
       "  <tbody>\n",
       "    <tr>\n",
       "      <th>Kathford</th>\n",
       "      <td>Saphal</td>\n",
       "      <td>1</td>\n",
       "    </tr>\n",
       "    <tr>\n",
       "      <th>Texas</th>\n",
       "      <td>Smiriti</td>\n",
       "      <td>2</td>\n",
       "    </tr>\n",
       "    <tr>\n",
       "      <th>Himalaya</th>\n",
       "      <td>Rojal</td>\n",
       "      <td>3</td>\n",
       "    </tr>\n",
       "  </tbody>\n",
       "</table>\n",
       "</div>"
      ],
      "text/plain": [
       "             Name  Roll No\n",
       "Kathford   Saphal        1\n",
       "Texas     Smiriti        2\n",
       "Himalaya    Rojal        3"
      ]
     },
     "execution_count": 168,
     "metadata": {},
     "output_type": "execute_result"
    }
   ],
   "source": [
    "df"
   ]
  },
  {
   "cell_type": "code",
   "execution_count": 172,
   "metadata": {},
   "outputs": [
    {
     "data": {
      "text/html": [
       "<div>\n",
       "<style scoped>\n",
       "    .dataframe tbody tr th:only-of-type {\n",
       "        vertical-align: middle;\n",
       "    }\n",
       "\n",
       "    .dataframe tbody tr th {\n",
       "        vertical-align: top;\n",
       "    }\n",
       "\n",
       "    .dataframe thead th {\n",
       "        text-align: right;\n",
       "    }\n",
       "</style>\n",
       "<table border=\"1\" class=\"dataframe\">\n",
       "  <thead>\n",
       "    <tr style=\"text-align: right;\">\n",
       "      <th></th>\n",
       "      <th>Name</th>\n",
       "      <th>Roll No</th>\n",
       "    </tr>\n",
       "  </thead>\n",
       "  <tbody>\n",
       "    <tr>\n",
       "      <th>Texas</th>\n",
       "      <td>Smiriti</td>\n",
       "      <td>2</td>\n",
       "    </tr>\n",
       "    <tr>\n",
       "      <th>Himalaya</th>\n",
       "      <td>Rojal</td>\n",
       "      <td>3</td>\n",
       "    </tr>\n",
       "  </tbody>\n",
       "</table>\n",
       "</div>"
      ],
      "text/plain": [
       "             Name  Roll No\n",
       "Texas     Smiriti        2\n",
       "Himalaya    Rojal        3"
      ]
     },
     "execution_count": 172,
     "metadata": {},
     "output_type": "execute_result"
    }
   ],
   "source": [
    "#dropping stuffs and this is immutable operation i.e it doesn't change the existing dataframe.\n",
    "df.drop(['Kathford'])"
   ]
  },
  {
   "cell_type": "code",
   "execution_count": 171,
   "metadata": {},
   "outputs": [
    {
     "data": {
      "text/html": [
       "<div>\n",
       "<style scoped>\n",
       "    .dataframe tbody tr th:only-of-type {\n",
       "        vertical-align: middle;\n",
       "    }\n",
       "\n",
       "    .dataframe tbody tr th {\n",
       "        vertical-align: top;\n",
       "    }\n",
       "\n",
       "    .dataframe thead th {\n",
       "        text-align: right;\n",
       "    }\n",
       "</style>\n",
       "<table border=\"1\" class=\"dataframe\">\n",
       "  <thead>\n",
       "    <tr style=\"text-align: right;\">\n",
       "      <th></th>\n",
       "      <th>Name</th>\n",
       "      <th>Roll No</th>\n",
       "    </tr>\n",
       "  </thead>\n",
       "  <tbody>\n",
       "    <tr>\n",
       "      <th>Kathford</th>\n",
       "      <td>Saphal</td>\n",
       "      <td>1</td>\n",
       "    </tr>\n",
       "    <tr>\n",
       "      <th>Texas</th>\n",
       "      <td>Smiriti</td>\n",
       "      <td>2</td>\n",
       "    </tr>\n",
       "    <tr>\n",
       "      <th>Himalaya</th>\n",
       "      <td>Rojal</td>\n",
       "      <td>3</td>\n",
       "    </tr>\n",
       "  </tbody>\n",
       "</table>\n",
       "</div>"
      ],
      "text/plain": [
       "             Name  Roll No\n",
       "Kathford   Saphal        1\n",
       "Texas     Smiriti        2\n",
       "Himalaya    Rojal        3"
      ]
     },
     "execution_count": 171,
     "metadata": {},
     "output_type": "execute_result"
    }
   ],
   "source": [
    "df"
   ]
  },
  {
   "cell_type": "markdown",
   "metadata": {},
   "source": [
    "Lets talk about Mutable and Immutable Operations in Python."
   ]
  },
  {
   "cell_type": "code",
   "execution_count": 173,
   "metadata": {},
   "outputs": [
    {
     "data": {
      "text/html": [
       "<div>\n",
       "<style scoped>\n",
       "    .dataframe tbody tr th:only-of-type {\n",
       "        vertical-align: middle;\n",
       "    }\n",
       "\n",
       "    .dataframe tbody tr th {\n",
       "        vertical-align: top;\n",
       "    }\n",
       "\n",
       "    .dataframe thead th {\n",
       "        text-align: right;\n",
       "    }\n",
       "</style>\n",
       "<table border=\"1\" class=\"dataframe\">\n",
       "  <thead>\n",
       "    <tr style=\"text-align: right;\">\n",
       "      <th></th>\n",
       "      <th>Name</th>\n",
       "      <th>Roll No</th>\n",
       "    </tr>\n",
       "  </thead>\n",
       "  <tbody>\n",
       "    <tr>\n",
       "      <th>Kathford</th>\n",
       "      <td>Saphal</td>\n",
       "      <td>1</td>\n",
       "    </tr>\n",
       "    <tr>\n",
       "      <th>Texas</th>\n",
       "      <td>Smiriti</td>\n",
       "      <td>2</td>\n",
       "    </tr>\n",
       "    <tr>\n",
       "      <th>Himalaya</th>\n",
       "      <td>Rojal</td>\n",
       "      <td>3</td>\n",
       "    </tr>\n",
       "  </tbody>\n",
       "</table>\n",
       "</div>"
      ],
      "text/plain": [
       "             Name  Roll No\n",
       "Kathford   Saphal        1\n",
       "Texas     Smiriti        2\n",
       "Himalaya    Rojal        3"
      ]
     },
     "execution_count": 173,
     "metadata": {},
     "output_type": "execute_result"
    }
   ],
   "source": [
    "df"
   ]
  },
  {
   "cell_type": "code",
   "execution_count": 174,
   "metadata": {},
   "outputs": [
    {
     "data": {
      "text/html": [
       "<div>\n",
       "<style scoped>\n",
       "    .dataframe tbody tr th:only-of-type {\n",
       "        vertical-align: middle;\n",
       "    }\n",
       "\n",
       "    .dataframe tbody tr th {\n",
       "        vertical-align: top;\n",
       "    }\n",
       "\n",
       "    .dataframe thead th {\n",
       "        text-align: right;\n",
       "    }\n",
       "</style>\n",
       "<table border=\"1\" class=\"dataframe\">\n",
       "  <thead>\n",
       "    <tr style=\"text-align: right;\">\n",
       "      <th></th>\n",
       "      <th>Name</th>\n",
       "      <th>Roll</th>\n",
       "    </tr>\n",
       "  </thead>\n",
       "  <tbody>\n",
       "    <tr>\n",
       "      <th>KF</th>\n",
       "      <td>Saphal</td>\n",
       "      <td>1</td>\n",
       "    </tr>\n",
       "    <tr>\n",
       "      <th>Texas</th>\n",
       "      <td>Smiriti</td>\n",
       "      <td>2</td>\n",
       "    </tr>\n",
       "    <tr>\n",
       "      <th>Himalaya</th>\n",
       "      <td>Rojal</td>\n",
       "      <td>3</td>\n",
       "    </tr>\n",
       "  </tbody>\n",
       "</table>\n",
       "</div>"
      ],
      "text/plain": [
       "             Name  Roll\n",
       "KF         Saphal     1\n",
       "Texas     Smiriti     2\n",
       "Himalaya    Rojal     3"
      ]
     },
     "execution_count": 174,
     "metadata": {},
     "output_type": "execute_result"
    }
   ],
   "source": [
    "#Renaming fields\n",
    "df.rename(\n",
    "    columns={\n",
    "        'Roll No':'Roll'\n",
    "    },\n",
    "    index={\n",
    "        'Kathford':'KF'\n",
    "    }\n",
    ")"
   ]
  },
  {
   "cell_type": "code",
   "execution_count": 175,
   "metadata": {},
   "outputs": [
    {
     "data": {
      "text/html": [
       "<div>\n",
       "<style scoped>\n",
       "    .dataframe tbody tr th:only-of-type {\n",
       "        vertical-align: middle;\n",
       "    }\n",
       "\n",
       "    .dataframe tbody tr th {\n",
       "        vertical-align: top;\n",
       "    }\n",
       "\n",
       "    .dataframe thead th {\n",
       "        text-align: right;\n",
       "    }\n",
       "</style>\n",
       "<table border=\"1\" class=\"dataframe\">\n",
       "  <thead>\n",
       "    <tr style=\"text-align: right;\">\n",
       "      <th></th>\n",
       "      <th>Name</th>\n",
       "      <th>Roll No</th>\n",
       "    </tr>\n",
       "  </thead>\n",
       "  <tbody>\n",
       "    <tr>\n",
       "      <th>Kathford</th>\n",
       "      <td>Saphal</td>\n",
       "      <td>1</td>\n",
       "    </tr>\n",
       "    <tr>\n",
       "      <th>Texas</th>\n",
       "      <td>Smiriti</td>\n",
       "      <td>2</td>\n",
       "    </tr>\n",
       "    <tr>\n",
       "      <th>Himalaya</th>\n",
       "      <td>Rojal</td>\n",
       "      <td>3</td>\n",
       "    </tr>\n",
       "  </tbody>\n",
       "</table>\n",
       "</div>"
      ],
      "text/plain": [
       "             Name  Roll No\n",
       "Kathford   Saphal        1\n",
       "Texas     Smiriti        2\n",
       "Himalaya    Rojal        3"
      ]
     },
     "execution_count": 175,
     "metadata": {},
     "output_type": "execute_result"
    }
   ],
   "source": [
    "df"
   ]
  },
  {
   "cell_type": "code",
   "execution_count": null,
   "metadata": {},
   "outputs": [],
   "source": [
    "# Adding new Column"
   ]
  },
  {
   "cell_type": "code",
   "execution_count": 176,
   "metadata": {},
   "outputs": [],
   "source": [
    "df['Percentage']=[20,30,40]"
   ]
  },
  {
   "cell_type": "code",
   "execution_count": 177,
   "metadata": {},
   "outputs": [
    {
     "data": {
      "text/html": [
       "<div>\n",
       "<style scoped>\n",
       "    .dataframe tbody tr th:only-of-type {\n",
       "        vertical-align: middle;\n",
       "    }\n",
       "\n",
       "    .dataframe tbody tr th {\n",
       "        vertical-align: top;\n",
       "    }\n",
       "\n",
       "    .dataframe thead th {\n",
       "        text-align: right;\n",
       "    }\n",
       "</style>\n",
       "<table border=\"1\" class=\"dataframe\">\n",
       "  <thead>\n",
       "    <tr style=\"text-align: right;\">\n",
       "      <th></th>\n",
       "      <th>Name</th>\n",
       "      <th>Roll No</th>\n",
       "      <th>Percentage</th>\n",
       "    </tr>\n",
       "  </thead>\n",
       "  <tbody>\n",
       "    <tr>\n",
       "      <th>Kathford</th>\n",
       "      <td>Saphal</td>\n",
       "      <td>1</td>\n",
       "      <td>20</td>\n",
       "    </tr>\n",
       "    <tr>\n",
       "      <th>Texas</th>\n",
       "      <td>Smiriti</td>\n",
       "      <td>2</td>\n",
       "      <td>30</td>\n",
       "    </tr>\n",
       "    <tr>\n",
       "      <th>Himalaya</th>\n",
       "      <td>Rojal</td>\n",
       "      <td>3</td>\n",
       "      <td>40</td>\n",
       "    </tr>\n",
       "  </tbody>\n",
       "</table>\n",
       "</div>"
      ],
      "text/plain": [
       "             Name  Roll No  Percentage\n",
       "Kathford   Saphal        1          20\n",
       "Texas     Smiriti        2          30\n",
       "Himalaya    Rojal        3          40"
      ]
     },
     "execution_count": 177,
     "metadata": {},
     "output_type": "execute_result"
    }
   ],
   "source": [
    "df"
   ]
  },
  {
   "cell_type": "markdown",
   "metadata": {},
   "source": [
    "## Data Cleaning in Pandas"
   ]
  },
  {
   "cell_type": "markdown",
   "metadata": {},
   "source": [
    "Data cleaning involves various  process. We will be discussing:\n",
    " * Finding Missing Data\n",
    " * Invalid Values\n",
    " * Duplication of Data"
   ]
  },
  {
   "cell_type": "code",
   "execution_count": 178,
   "metadata": {},
   "outputs": [],
   "source": [
    "import numpy as np\n",
    "import pandas as pd"
   ]
  },
  {
   "cell_type": "code",
   "execution_count": 179,
   "metadata": {},
   "outputs": [
    {
     "data": {
      "text/plain": [
       "nan"
      ]
     },
     "execution_count": 179,
     "metadata": {},
     "output_type": "execute_result"
    }
   ],
   "source": [
    "#represnets a null value NaN=Not a Number\n",
    "np.nan"
   ]
  },
  {
   "cell_type": "code",
   "execution_count": 180,
   "metadata": {},
   "outputs": [],
   "source": [
    "series=pd.Series([1,np.nan,3,np.nan,\"saphal\"])"
   ]
  },
  {
   "cell_type": "code",
   "execution_count": 181,
   "metadata": {},
   "outputs": [
    {
     "data": {
      "text/plain": [
       "0         1\n",
       "1       NaN\n",
       "2         3\n",
       "3       NaN\n",
       "4    saphal\n",
       "dtype: object"
      ]
     },
     "execution_count": 181,
     "metadata": {},
     "output_type": "execute_result"
    }
   ],
   "source": [
    "series"
   ]
  },
  {
   "cell_type": "code",
   "execution_count": 182,
   "metadata": {},
   "outputs": [
    {
     "data": {
      "text/plain": [
       "0    False\n",
       "1     True\n",
       "2    False\n",
       "3     True\n",
       "4    False\n",
       "dtype: bool"
      ]
     },
     "execution_count": 182,
     "metadata": {},
     "output_type": "execute_result"
    }
   ],
   "source": [
    "#Checks is null\n",
    "pd.isnull(series)"
   ]
  },
  {
   "cell_type": "code",
   "execution_count": 183,
   "metadata": {},
   "outputs": [
    {
     "data": {
      "text/plain": [
       "0     True\n",
       "1    False\n",
       "2     True\n",
       "3    False\n",
       "4     True\n",
       "dtype: bool"
      ]
     },
     "execution_count": 183,
     "metadata": {},
     "output_type": "execute_result"
    }
   ],
   "source": [
    "#checks is not null\n",
    "pd.notnull(series)"
   ]
  },
  {
   "cell_type": "code",
   "execution_count": 184,
   "metadata": {},
   "outputs": [
    {
     "data": {
      "text/plain": [
       "0         1\n",
       "2         3\n",
       "4    saphal\n",
       "dtype: object"
      ]
     },
     "execution_count": 184,
     "metadata": {},
     "output_type": "execute_result"
    }
   ],
   "source": [
    "#dropping the null values\n",
    "series.dropna()"
   ]
  },
  {
   "cell_type": "code",
   "execution_count": 185,
   "metadata": {},
   "outputs": [
    {
     "data": {
      "text/plain": [
       "0         1\n",
       "1       NaN\n",
       "2         3\n",
       "3       NaN\n",
       "4    saphal\n",
       "dtype: object"
      ]
     },
     "execution_count": 185,
     "metadata": {},
     "output_type": "execute_result"
    }
   ],
   "source": [
    "series"
   ]
  },
  {
   "cell_type": "code",
   "execution_count": 186,
   "metadata": {},
   "outputs": [
    {
     "data": {
      "text/plain": [
       "0         1\n",
       "1         0\n",
       "2         3\n",
       "3         0\n",
       "4    saphal\n",
       "dtype: object"
      ]
     },
     "execution_count": 186,
     "metadata": {},
     "output_type": "execute_result"
    }
   ],
   "source": [
    "#filling  the null values\n",
    "series.fillna(0)"
   ]
  },
  {
   "cell_type": "code",
   "execution_count": 187,
   "metadata": {},
   "outputs": [
    {
     "data": {
      "text/plain": [
       "0         1\n",
       "1         1\n",
       "2         3\n",
       "3         3\n",
       "4    saphal\n",
       "dtype: object"
      ]
     },
     "execution_count": 187,
     "metadata": {},
     "output_type": "execute_result"
    }
   ],
   "source": [
    "# 2 types of fill is possible- Forward Fill and Backward Fill\n",
    "series.fillna(method='ffill')"
   ]
  },
  {
   "cell_type": "code",
   "execution_count": 188,
   "metadata": {},
   "outputs": [
    {
     "data": {
      "text/plain": [
       "0         1\n",
       "1         3\n",
       "2         3\n",
       "3    saphal\n",
       "4    saphal\n",
       "dtype: object"
      ]
     },
     "execution_count": 188,
     "metadata": {},
     "output_type": "execute_result"
    }
   ],
   "source": [
    "series.fillna(method='bfill')"
   ]
  },
  {
   "cell_type": "markdown",
   "metadata": {},
   "source": [
    "## Same for Data Frame"
   ]
  },
  {
   "cell_type": "code",
   "execution_count": 189,
   "metadata": {},
   "outputs": [],
   "source": [
    "#Creating a Data Frame \n",
    "df=pd.DataFrame({\n",
    "    'Name':['Saphal','Smiriti','Rojal'],\n",
    "    'Roll No':[1,np.nan,3]\n",
    "})"
   ]
  },
  {
   "cell_type": "code",
   "execution_count": 190,
   "metadata": {},
   "outputs": [
    {
     "data": {
      "text/html": [
       "<div>\n",
       "<style scoped>\n",
       "    .dataframe tbody tr th:only-of-type {\n",
       "        vertical-align: middle;\n",
       "    }\n",
       "\n",
       "    .dataframe tbody tr th {\n",
       "        vertical-align: top;\n",
       "    }\n",
       "\n",
       "    .dataframe thead th {\n",
       "        text-align: right;\n",
       "    }\n",
       "</style>\n",
       "<table border=\"1\" class=\"dataframe\">\n",
       "  <thead>\n",
       "    <tr style=\"text-align: right;\">\n",
       "      <th></th>\n",
       "      <th>Name</th>\n",
       "      <th>Roll No</th>\n",
       "    </tr>\n",
       "  </thead>\n",
       "  <tbody>\n",
       "    <tr>\n",
       "      <th>0</th>\n",
       "      <td>Saphal</td>\n",
       "      <td>1.0</td>\n",
       "    </tr>\n",
       "    <tr>\n",
       "      <th>1</th>\n",
       "      <td>Smiriti</td>\n",
       "      <td>NaN</td>\n",
       "    </tr>\n",
       "    <tr>\n",
       "      <th>2</th>\n",
       "      <td>Rojal</td>\n",
       "      <td>3.0</td>\n",
       "    </tr>\n",
       "  </tbody>\n",
       "</table>\n",
       "</div>"
      ],
      "text/plain": [
       "      Name  Roll No\n",
       "0   Saphal      1.0\n",
       "1  Smiriti      NaN\n",
       "2    Rojal      3.0"
      ]
     },
     "execution_count": 190,
     "metadata": {},
     "output_type": "execute_result"
    }
   ],
   "source": [
    "df"
   ]
  },
  {
   "cell_type": "code",
   "execution_count": 191,
   "metadata": {},
   "outputs": [
    {
     "data": {
      "text/html": [
       "<div>\n",
       "<style scoped>\n",
       "    .dataframe tbody tr th:only-of-type {\n",
       "        vertical-align: middle;\n",
       "    }\n",
       "\n",
       "    .dataframe tbody tr th {\n",
       "        vertical-align: top;\n",
       "    }\n",
       "\n",
       "    .dataframe thead th {\n",
       "        text-align: right;\n",
       "    }\n",
       "</style>\n",
       "<table border=\"1\" class=\"dataframe\">\n",
       "  <thead>\n",
       "    <tr style=\"text-align: right;\">\n",
       "      <th></th>\n",
       "      <th>Name</th>\n",
       "      <th>Roll No</th>\n",
       "    </tr>\n",
       "  </thead>\n",
       "  <tbody>\n",
       "    <tr>\n",
       "      <th>0</th>\n",
       "      <td>False</td>\n",
       "      <td>False</td>\n",
       "    </tr>\n",
       "    <tr>\n",
       "      <th>1</th>\n",
       "      <td>False</td>\n",
       "      <td>True</td>\n",
       "    </tr>\n",
       "    <tr>\n",
       "      <th>2</th>\n",
       "      <td>False</td>\n",
       "      <td>False</td>\n",
       "    </tr>\n",
       "  </tbody>\n",
       "</table>\n",
       "</div>"
      ],
      "text/plain": [
       "    Name  Roll No\n",
       "0  False    False\n",
       "1  False     True\n",
       "2  False    False"
      ]
     },
     "execution_count": 191,
     "metadata": {},
     "output_type": "execute_result"
    }
   ],
   "source": [
    "#Checks for Null Value\n",
    "pd.isnull(df)"
   ]
  },
  {
   "cell_type": "code",
   "execution_count": 192,
   "metadata": {},
   "outputs": [
    {
     "data": {
      "text/html": [
       "<div>\n",
       "<style scoped>\n",
       "    .dataframe tbody tr th:only-of-type {\n",
       "        vertical-align: middle;\n",
       "    }\n",
       "\n",
       "    .dataframe tbody tr th {\n",
       "        vertical-align: top;\n",
       "    }\n",
       "\n",
       "    .dataframe thead th {\n",
       "        text-align: right;\n",
       "    }\n",
       "</style>\n",
       "<table border=\"1\" class=\"dataframe\">\n",
       "  <thead>\n",
       "    <tr style=\"text-align: right;\">\n",
       "      <th></th>\n",
       "      <th>Name</th>\n",
       "      <th>Roll No</th>\n",
       "    </tr>\n",
       "  </thead>\n",
       "  <tbody>\n",
       "    <tr>\n",
       "      <th>0</th>\n",
       "      <td>True</td>\n",
       "      <td>True</td>\n",
       "    </tr>\n",
       "    <tr>\n",
       "      <th>1</th>\n",
       "      <td>True</td>\n",
       "      <td>False</td>\n",
       "    </tr>\n",
       "    <tr>\n",
       "      <th>2</th>\n",
       "      <td>True</td>\n",
       "      <td>True</td>\n",
       "    </tr>\n",
       "  </tbody>\n",
       "</table>\n",
       "</div>"
      ],
      "text/plain": [
       "   Name  Roll No\n",
       "0  True     True\n",
       "1  True    False\n",
       "2  True     True"
      ]
     },
     "execution_count": 192,
     "metadata": {},
     "output_type": "execute_result"
    }
   ],
   "source": [
    "#checks for not null value\n",
    "pd.notnull(df)"
   ]
  },
  {
   "cell_type": "code",
   "execution_count": 193,
   "metadata": {},
   "outputs": [
    {
     "data": {
      "text/plain": [
       "Name       0\n",
       "Roll No    1\n",
       "dtype: int64"
      ]
     },
     "execution_count": 193,
     "metadata": {},
     "output_type": "execute_result"
    }
   ],
   "source": [
    "pd.isnull(df).sum()"
   ]
  },
  {
   "cell_type": "code",
   "execution_count": 195,
   "metadata": {},
   "outputs": [
    {
     "data": {
      "text/html": [
       "<div>\n",
       "<style scoped>\n",
       "    .dataframe tbody tr th:only-of-type {\n",
       "        vertical-align: middle;\n",
       "    }\n",
       "\n",
       "    .dataframe tbody tr th {\n",
       "        vertical-align: top;\n",
       "    }\n",
       "\n",
       "    .dataframe thead th {\n",
       "        text-align: right;\n",
       "    }\n",
       "</style>\n",
       "<table border=\"1\" class=\"dataframe\">\n",
       "  <thead>\n",
       "    <tr style=\"text-align: right;\">\n",
       "      <th></th>\n",
       "      <th>Name</th>\n",
       "      <th>Roll No</th>\n",
       "    </tr>\n",
       "  </thead>\n",
       "  <tbody>\n",
       "    <tr>\n",
       "      <th>0</th>\n",
       "      <td>Saphal</td>\n",
       "      <td>1.0</td>\n",
       "    </tr>\n",
       "    <tr>\n",
       "      <th>1</th>\n",
       "      <td>Smiriti</td>\n",
       "      <td>NaN</td>\n",
       "    </tr>\n",
       "    <tr>\n",
       "      <th>2</th>\n",
       "      <td>Rojal</td>\n",
       "      <td>3.0</td>\n",
       "    </tr>\n",
       "  </tbody>\n",
       "</table>\n",
       "</div>"
      ],
      "text/plain": [
       "      Name  Roll No\n",
       "0   Saphal      1.0\n",
       "1  Smiriti      NaN\n",
       "2    Rojal      3.0"
      ]
     },
     "execution_count": 195,
     "metadata": {},
     "output_type": "execute_result"
    }
   ],
   "source": [
    "#How=all & how=any\n",
    "df.dropna(how=\"all\")"
   ]
  },
  {
   "cell_type": "code",
   "execution_count": 196,
   "metadata": {},
   "outputs": [
    {
     "data": {
      "text/html": [
       "<div>\n",
       "<style scoped>\n",
       "    .dataframe tbody tr th:only-of-type {\n",
       "        vertical-align: middle;\n",
       "    }\n",
       "\n",
       "    .dataframe tbody tr th {\n",
       "        vertical-align: top;\n",
       "    }\n",
       "\n",
       "    .dataframe thead th {\n",
       "        text-align: right;\n",
       "    }\n",
       "</style>\n",
       "<table border=\"1\" class=\"dataframe\">\n",
       "  <thead>\n",
       "    <tr style=\"text-align: right;\">\n",
       "      <th></th>\n",
       "      <th>Name</th>\n",
       "      <th>Roll No</th>\n",
       "    </tr>\n",
       "  </thead>\n",
       "  <tbody>\n",
       "    <tr>\n",
       "      <th>0</th>\n",
       "      <td>Saphal</td>\n",
       "      <td>1.0</td>\n",
       "    </tr>\n",
       "    <tr>\n",
       "      <th>1</th>\n",
       "      <td>Smiriti</td>\n",
       "      <td>0.0</td>\n",
       "    </tr>\n",
       "    <tr>\n",
       "      <th>2</th>\n",
       "      <td>Rojal</td>\n",
       "      <td>3.0</td>\n",
       "    </tr>\n",
       "  </tbody>\n",
       "</table>\n",
       "</div>"
      ],
      "text/plain": [
       "      Name  Roll No\n",
       "0   Saphal      1.0\n",
       "1  Smiriti      0.0\n",
       "2    Rojal      3.0"
      ]
     },
     "execution_count": 196,
     "metadata": {},
     "output_type": "execute_result"
    }
   ],
   "source": [
    "#fill the data \n",
    "df\n",
    "df.fillna(0)"
   ]
  },
  {
   "cell_type": "code",
   "execution_count": 197,
   "metadata": {},
   "outputs": [
    {
     "data": {
      "text/html": [
       "<div>\n",
       "<style scoped>\n",
       "    .dataframe tbody tr th:only-of-type {\n",
       "        vertical-align: middle;\n",
       "    }\n",
       "\n",
       "    .dataframe tbody tr th {\n",
       "        vertical-align: top;\n",
       "    }\n",
       "\n",
       "    .dataframe thead th {\n",
       "        text-align: right;\n",
       "    }\n",
       "</style>\n",
       "<table border=\"1\" class=\"dataframe\">\n",
       "  <thead>\n",
       "    <tr style=\"text-align: right;\">\n",
       "      <th></th>\n",
       "      <th>Name</th>\n",
       "      <th>Roll No</th>\n",
       "    </tr>\n",
       "  </thead>\n",
       "  <tbody>\n",
       "    <tr>\n",
       "      <th>0</th>\n",
       "      <td>Saphal</td>\n",
       "      <td>1.0</td>\n",
       "    </tr>\n",
       "    <tr>\n",
       "      <th>1</th>\n",
       "      <td>Smiriti</td>\n",
       "      <td>1.0</td>\n",
       "    </tr>\n",
       "    <tr>\n",
       "      <th>2</th>\n",
       "      <td>Rojal</td>\n",
       "      <td>3.0</td>\n",
       "    </tr>\n",
       "  </tbody>\n",
       "</table>\n",
       "</div>"
      ],
      "text/plain": [
       "      Name  Roll No\n",
       "0   Saphal      1.0\n",
       "1  Smiriti      1.0\n",
       "2    Rojal      3.0"
      ]
     },
     "execution_count": 197,
     "metadata": {},
     "output_type": "execute_result"
    }
   ],
   "source": [
    "# 2 ways for filling the data- Forward Fill and Backward Fill\n",
    "df.fillna(method='ffill')"
   ]
  },
  {
   "cell_type": "code",
   "execution_count": 198,
   "metadata": {},
   "outputs": [
    {
     "data": {
      "text/html": [
       "<div>\n",
       "<style scoped>\n",
       "    .dataframe tbody tr th:only-of-type {\n",
       "        vertical-align: middle;\n",
       "    }\n",
       "\n",
       "    .dataframe tbody tr th {\n",
       "        vertical-align: top;\n",
       "    }\n",
       "\n",
       "    .dataframe thead th {\n",
       "        text-align: right;\n",
       "    }\n",
       "</style>\n",
       "<table border=\"1\" class=\"dataframe\">\n",
       "  <thead>\n",
       "    <tr style=\"text-align: right;\">\n",
       "      <th></th>\n",
       "      <th>Name</th>\n",
       "      <th>Roll No</th>\n",
       "    </tr>\n",
       "  </thead>\n",
       "  <tbody>\n",
       "    <tr>\n",
       "      <th>0</th>\n",
       "      <td>Saphal</td>\n",
       "      <td>1.0</td>\n",
       "    </tr>\n",
       "    <tr>\n",
       "      <th>1</th>\n",
       "      <td>Smiriti</td>\n",
       "      <td>3.0</td>\n",
       "    </tr>\n",
       "    <tr>\n",
       "      <th>2</th>\n",
       "      <td>Rojal</td>\n",
       "      <td>3.0</td>\n",
       "    </tr>\n",
       "  </tbody>\n",
       "</table>\n",
       "</div>"
      ],
      "text/plain": [
       "      Name  Roll No\n",
       "0   Saphal      1.0\n",
       "1  Smiriti      3.0\n",
       "2    Rojal      3.0"
      ]
     },
     "execution_count": 198,
     "metadata": {},
     "output_type": "execute_result"
    }
   ],
   "source": [
    "df.fillna(method='bfill')"
   ]
  },
  {
   "cell_type": "markdown",
   "metadata": {},
   "source": [
    "## Invalid Datas"
   ]
  },
  {
   "cell_type": "code",
   "execution_count": 199,
   "metadata": {},
   "outputs": [],
   "source": [
    "#Creating a Data Frame \n",
    "df=pd.DataFrame({\n",
    "    'Name':['Saphal','Smiriti','Rojal'],\n",
    "    'Age':[22,200,10],\n",
    "    'Gender':['M','F','C']\n",
    "})"
   ]
  },
  {
   "cell_type": "code",
   "execution_count": 200,
   "metadata": {},
   "outputs": [
    {
     "data": {
      "text/html": [
       "<div>\n",
       "<style scoped>\n",
       "    .dataframe tbody tr th:only-of-type {\n",
       "        vertical-align: middle;\n",
       "    }\n",
       "\n",
       "    .dataframe tbody tr th {\n",
       "        vertical-align: top;\n",
       "    }\n",
       "\n",
       "    .dataframe thead th {\n",
       "        text-align: right;\n",
       "    }\n",
       "</style>\n",
       "<table border=\"1\" class=\"dataframe\">\n",
       "  <thead>\n",
       "    <tr style=\"text-align: right;\">\n",
       "      <th></th>\n",
       "      <th>Name</th>\n",
       "      <th>Age</th>\n",
       "      <th>Gender</th>\n",
       "    </tr>\n",
       "  </thead>\n",
       "  <tbody>\n",
       "    <tr>\n",
       "      <th>0</th>\n",
       "      <td>Saphal</td>\n",
       "      <td>22</td>\n",
       "      <td>M</td>\n",
       "    </tr>\n",
       "    <tr>\n",
       "      <th>1</th>\n",
       "      <td>Smiriti</td>\n",
       "      <td>200</td>\n",
       "      <td>F</td>\n",
       "    </tr>\n",
       "    <tr>\n",
       "      <th>2</th>\n",
       "      <td>Rojal</td>\n",
       "      <td>10</td>\n",
       "      <td>C</td>\n",
       "    </tr>\n",
       "  </tbody>\n",
       "</table>\n",
       "</div>"
      ],
      "text/plain": [
       "      Name  Age Gender\n",
       "0   Saphal   22      M\n",
       "1  Smiriti  200      F\n",
       "2    Rojal   10      C"
      ]
     },
     "execution_count": 200,
     "metadata": {},
     "output_type": "execute_result"
    }
   ],
   "source": [
    "df"
   ]
  },
  {
   "cell_type": "code",
   "execution_count": 201,
   "metadata": {},
   "outputs": [
    {
     "data": {
      "text/plain": [
       "array(['M', 'F', 'C'], dtype=object)"
      ]
     },
     "execution_count": 201,
     "metadata": {},
     "output_type": "execute_result"
    }
   ],
   "source": [
    "#checks for unique value in column\n",
    "df['Gender'].unique()"
   ]
  },
  {
   "cell_type": "code",
   "execution_count": 202,
   "metadata": {},
   "outputs": [
    {
     "data": {
      "text/html": [
       "<div>\n",
       "<style scoped>\n",
       "    .dataframe tbody tr th:only-of-type {\n",
       "        vertical-align: middle;\n",
       "    }\n",
       "\n",
       "    .dataframe tbody tr th {\n",
       "        vertical-align: top;\n",
       "    }\n",
       "\n",
       "    .dataframe thead th {\n",
       "        text-align: right;\n",
       "    }\n",
       "</style>\n",
       "<table border=\"1\" class=\"dataframe\">\n",
       "  <thead>\n",
       "    <tr style=\"text-align: right;\">\n",
       "      <th></th>\n",
       "      <th>Name</th>\n",
       "      <th>Age</th>\n",
       "      <th>Gender</th>\n",
       "    </tr>\n",
       "  </thead>\n",
       "  <tbody>\n",
       "    <tr>\n",
       "      <th>0</th>\n",
       "      <td>Saphal</td>\n",
       "      <td>22</td>\n",
       "      <td>M</td>\n",
       "    </tr>\n",
       "    <tr>\n",
       "      <th>1</th>\n",
       "      <td>Smiriti</td>\n",
       "      <td>20</td>\n",
       "      <td>F</td>\n",
       "    </tr>\n",
       "    <tr>\n",
       "      <th>2</th>\n",
       "      <td>Rojal</td>\n",
       "      <td>10</td>\n",
       "      <td>M</td>\n",
       "    </tr>\n",
       "  </tbody>\n",
       "</table>\n",
       "</div>"
      ],
      "text/plain": [
       "      Name  Age Gender\n",
       "0   Saphal   22      M\n",
       "1  Smiriti   20      F\n",
       "2    Rojal   10      M"
      ]
     },
     "execution_count": 202,
     "metadata": {},
     "output_type": "execute_result"
    }
   ],
   "source": [
    "df.replace({\n",
    "    'Gender':{\n",
    "    'C':'M'\n",
    "    }\n",
    ",'Age':{\n",
    "    200:20\n",
    "}}\n",
    ")"
   ]
  },
  {
   "cell_type": "markdown",
   "metadata": {},
   "source": [
    "## Duplicated Data"
   ]
  },
  {
   "cell_type": "code",
   "execution_count": 203,
   "metadata": {},
   "outputs": [],
   "source": [
    "#Creating a Data Frame \n",
    "df=pd.DataFrame({\n",
    "    'Name':['Saphal','Smiriti','Smiriti'],\n",
    "    'Age':[22,20,20],\n",
    "    'Gender':['M','F','F']\n",
    "})"
   ]
  },
  {
   "cell_type": "code",
   "execution_count": 204,
   "metadata": {},
   "outputs": [
    {
     "data": {
      "text/html": [
       "<div>\n",
       "<style scoped>\n",
       "    .dataframe tbody tr th:only-of-type {\n",
       "        vertical-align: middle;\n",
       "    }\n",
       "\n",
       "    .dataframe tbody tr th {\n",
       "        vertical-align: top;\n",
       "    }\n",
       "\n",
       "    .dataframe thead th {\n",
       "        text-align: right;\n",
       "    }\n",
       "</style>\n",
       "<table border=\"1\" class=\"dataframe\">\n",
       "  <thead>\n",
       "    <tr style=\"text-align: right;\">\n",
       "      <th></th>\n",
       "      <th>Name</th>\n",
       "      <th>Age</th>\n",
       "      <th>Gender</th>\n",
       "    </tr>\n",
       "  </thead>\n",
       "  <tbody>\n",
       "    <tr>\n",
       "      <th>0</th>\n",
       "      <td>Saphal</td>\n",
       "      <td>22</td>\n",
       "      <td>M</td>\n",
       "    </tr>\n",
       "    <tr>\n",
       "      <th>1</th>\n",
       "      <td>Smiriti</td>\n",
       "      <td>20</td>\n",
       "      <td>F</td>\n",
       "    </tr>\n",
       "    <tr>\n",
       "      <th>2</th>\n",
       "      <td>Smiriti</td>\n",
       "      <td>20</td>\n",
       "      <td>F</td>\n",
       "    </tr>\n",
       "  </tbody>\n",
       "</table>\n",
       "</div>"
      ],
      "text/plain": [
       "      Name  Age Gender\n",
       "0   Saphal   22      M\n",
       "1  Smiriti   20      F\n",
       "2  Smiriti   20      F"
      ]
     },
     "execution_count": 204,
     "metadata": {},
     "output_type": "execute_result"
    }
   ],
   "source": [
    "df"
   ]
  },
  {
   "cell_type": "code",
   "execution_count": 205,
   "metadata": {},
   "outputs": [
    {
     "data": {
      "text/plain": [
       "0    False\n",
       "1    False\n",
       "2     True\n",
       "dtype: bool"
      ]
     },
     "execution_count": 205,
     "metadata": {},
     "output_type": "execute_result"
    }
   ],
   "source": [
    "df.duplicated()"
   ]
  },
  {
   "cell_type": "code",
   "execution_count": 206,
   "metadata": {},
   "outputs": [
    {
     "data": {
      "text/plain": [
       "0    False\n",
       "1     True\n",
       "2    False\n",
       "dtype: bool"
      ]
     },
     "execution_count": 206,
     "metadata": {},
     "output_type": "execute_result"
    }
   ],
   "source": [
    "#we can pass keep method with the duplicated\n",
    "df.duplicated(keep=\"last\")"
   ]
  },
  {
   "cell_type": "code",
   "execution_count": 207,
   "metadata": {},
   "outputs": [
    {
     "data": {
      "text/plain": [
       "0    False\n",
       "1    False\n",
       "2     True\n",
       "dtype: bool"
      ]
     },
     "execution_count": 207,
     "metadata": {},
     "output_type": "execute_result"
    }
   ],
   "source": [
    "df.duplicated(keep=\"first\")"
   ]
  },
  {
   "cell_type": "code",
   "execution_count": 208,
   "metadata": {},
   "outputs": [
    {
     "data": {
      "text/html": [
       "<div>\n",
       "<style scoped>\n",
       "    .dataframe tbody tr th:only-of-type {\n",
       "        vertical-align: middle;\n",
       "    }\n",
       "\n",
       "    .dataframe tbody tr th {\n",
       "        vertical-align: top;\n",
       "    }\n",
       "\n",
       "    .dataframe thead th {\n",
       "        text-align: right;\n",
       "    }\n",
       "</style>\n",
       "<table border=\"1\" class=\"dataframe\">\n",
       "  <thead>\n",
       "    <tr style=\"text-align: right;\">\n",
       "      <th></th>\n",
       "      <th>Name</th>\n",
       "      <th>Age</th>\n",
       "      <th>Gender</th>\n",
       "    </tr>\n",
       "  </thead>\n",
       "  <tbody>\n",
       "    <tr>\n",
       "      <th>1</th>\n",
       "      <td>Smiriti</td>\n",
       "      <td>20</td>\n",
       "      <td>F</td>\n",
       "    </tr>\n",
       "  </tbody>\n",
       "</table>\n",
       "</div>"
      ],
      "text/plain": [
       "      Name  Age Gender\n",
       "1  Smiriti   20      F"
      ]
     },
     "execution_count": 208,
     "metadata": {},
     "output_type": "execute_result"
    }
   ],
   "source": [
    "df[df.duplicated(keep=\"last\")]"
   ]
  },
  {
   "cell_type": "markdown",
   "metadata": {},
   "source": [
    "### The same applies for series too\n",
    "\n",
    "https://pandas.pydata.org/docs/getting_started/index.html#getting-started"
   ]
  },
  {
   "cell_type": "markdown",
   "metadata": {},
   "source": [
    "## Lets jump into data analysis"
   ]
  },
  {
   "cell_type": "code",
   "execution_count": 209,
   "metadata": {},
   "outputs": [],
   "source": [
    "import numpy as np\n",
    "import pandas as pd\n",
    "import seaborn as sb\n",
    "import matplotlib.pyplot as plt"
   ]
  },
  {
   "cell_type": "markdown",
   "metadata": {},
   "source": [
    "# Reading the Data"
   ]
  },
  {
   "cell_type": "code",
   "execution_count": 218,
   "metadata": {},
   "outputs": [],
   "source": [
    "import requests\n",
    "import pandas as pd\n",
    "import json "
   ]
  },
  {
   "cell_type": "code",
   "execution_count": 210,
   "metadata": {},
   "outputs": [],
   "source": [
    "#Reading data from CSV\n",
    "#read_xml\n",
    "#read_json\n",
    "corona_data=pd.read_csv('data.csv')"
   ]
  },
  {
   "cell_type": "code",
   "execution_count": 214,
   "metadata": {},
   "outputs": [
    {
     "data": {
      "text/html": [
       "<div>\n",
       "<style scoped>\n",
       "    .dataframe tbody tr th:only-of-type {\n",
       "        vertical-align: middle;\n",
       "    }\n",
       "\n",
       "    .dataframe tbody tr th {\n",
       "        vertical-align: top;\n",
       "    }\n",
       "\n",
       "    .dataframe thead th {\n",
       "        text-align: right;\n",
       "    }\n",
       "</style>\n",
       "<table border=\"1\" class=\"dataframe\">\n",
       "  <thead>\n",
       "    <tr style=\"text-align: right;\">\n",
       "      <th></th>\n",
       "      <th>Unnamed: 0</th>\n",
       "      <th>date</th>\n",
       "      <th>totalCases</th>\n",
       "      <th>newCases</th>\n",
       "      <th>totalRecoveries</th>\n",
       "      <th>newRecoveries</th>\n",
       "      <th>totalDeaths</th>\n",
       "      <th>newDeaths</th>\n",
       "    </tr>\n",
       "  </thead>\n",
       "  <tbody>\n",
       "    <tr>\n",
       "      <th>0</th>\n",
       "      <td>0</td>\n",
       "      <td>2020-01-30</td>\n",
       "      <td>0</td>\n",
       "      <td>0</td>\n",
       "      <td>0</td>\n",
       "      <td>0</td>\n",
       "      <td>0</td>\n",
       "      <td>0</td>\n",
       "    </tr>\n",
       "    <tr>\n",
       "      <th>1</th>\n",
       "      <td>1</td>\n",
       "      <td>2020-01-31</td>\n",
       "      <td>0</td>\n",
       "      <td>0</td>\n",
       "      <td>1</td>\n",
       "      <td>1</td>\n",
       "      <td>0</td>\n",
       "      <td>0</td>\n",
       "    </tr>\n",
       "    <tr>\n",
       "      <th>2</th>\n",
       "      <td>2</td>\n",
       "      <td>2020-02-01</td>\n",
       "      <td>0</td>\n",
       "      <td>0</td>\n",
       "      <td>1</td>\n",
       "      <td>0</td>\n",
       "      <td>0</td>\n",
       "      <td>0</td>\n",
       "    </tr>\n",
       "    <tr>\n",
       "      <th>3</th>\n",
       "      <td>3</td>\n",
       "      <td>2020-02-02</td>\n",
       "      <td>0</td>\n",
       "      <td>0</td>\n",
       "      <td>1</td>\n",
       "      <td>0</td>\n",
       "      <td>0</td>\n",
       "      <td>0</td>\n",
       "    </tr>\n",
       "    <tr>\n",
       "      <th>4</th>\n",
       "      <td>4</td>\n",
       "      <td>2020-02-03</td>\n",
       "      <td>0</td>\n",
       "      <td>0</td>\n",
       "      <td>1</td>\n",
       "      <td>0</td>\n",
       "      <td>0</td>\n",
       "      <td>0</td>\n",
       "    </tr>\n",
       "    <tr>\n",
       "      <th>...</th>\n",
       "      <td>...</td>\n",
       "      <td>...</td>\n",
       "      <td>...</td>\n",
       "      <td>...</td>\n",
       "      <td>...</td>\n",
       "      <td>...</td>\n",
       "      <td>...</td>\n",
       "      <td>...</td>\n",
       "    </tr>\n",
       "    <tr>\n",
       "      <th>115</th>\n",
       "      <td>115</td>\n",
       "      <td>2020-05-24</td>\n",
       "      <td>602</td>\n",
       "      <td>19</td>\n",
       "      <td>88</td>\n",
       "      <td>17</td>\n",
       "      <td>4</td>\n",
       "      <td>0</td>\n",
       "    </tr>\n",
       "    <tr>\n",
       "      <th>116</th>\n",
       "      <td>116</td>\n",
       "      <td>2020-05-25</td>\n",
       "      <td>681</td>\n",
       "      <td>79</td>\n",
       "      <td>113</td>\n",
       "      <td>25</td>\n",
       "      <td>4</td>\n",
       "      <td>0</td>\n",
       "    </tr>\n",
       "    <tr>\n",
       "      <th>117</th>\n",
       "      <td>117</td>\n",
       "      <td>2020-05-26</td>\n",
       "      <td>771</td>\n",
       "      <td>90</td>\n",
       "      <td>155</td>\n",
       "      <td>42</td>\n",
       "      <td>4</td>\n",
       "      <td>0</td>\n",
       "    </tr>\n",
       "    <tr>\n",
       "      <th>118</th>\n",
       "      <td>118</td>\n",
       "      <td>2020-05-27</td>\n",
       "      <td>771</td>\n",
       "      <td>0</td>\n",
       "      <td>155</td>\n",
       "      <td>0</td>\n",
       "      <td>4</td>\n",
       "      <td>0</td>\n",
       "    </tr>\n",
       "    <tr>\n",
       "      <th>119</th>\n",
       "      <td>119</td>\n",
       "      <td>2020-05-28</td>\n",
       "      <td>771</td>\n",
       "      <td>0</td>\n",
       "      <td>155</td>\n",
       "      <td>0</td>\n",
       "      <td>4</td>\n",
       "      <td>0</td>\n",
       "    </tr>\n",
       "  </tbody>\n",
       "</table>\n",
       "<p>120 rows × 8 columns</p>\n",
       "</div>"
      ],
      "text/plain": [
       "     Unnamed: 0        date  totalCases  newCases  totalRecoveries  \\\n",
       "0             0  2020-01-30           0         0                0   \n",
       "1             1  2020-01-31           0         0                1   \n",
       "2             2  2020-02-01           0         0                1   \n",
       "3             3  2020-02-02           0         0                1   \n",
       "4             4  2020-02-03           0         0                1   \n",
       "..          ...         ...         ...       ...              ...   \n",
       "115         115  2020-05-24         602        19               88   \n",
       "116         116  2020-05-25         681        79              113   \n",
       "117         117  2020-05-26         771        90              155   \n",
       "118         118  2020-05-27         771         0              155   \n",
       "119         119  2020-05-28         771         0              155   \n",
       "\n",
       "     newRecoveries  totalDeaths  newDeaths  \n",
       "0                0            0          0  \n",
       "1                1            0          0  \n",
       "2                0            0          0  \n",
       "3                0            0          0  \n",
       "4                0            0          0  \n",
       "..             ...          ...        ...  \n",
       "115             17            4          0  \n",
       "116             25            4          0  \n",
       "117             42            4          0  \n",
       "118              0            4          0  \n",
       "119              0            4          0  \n",
       "\n",
       "[120 rows x 8 columns]"
      ]
     },
     "execution_count": 214,
     "metadata": {},
     "output_type": "execute_result"
    }
   ],
   "source": [
    "corona_data"
   ]
  },
  {
   "cell_type": "code",
   "execution_count": 215,
   "metadata": {},
   "outputs": [
    {
     "data": {
      "text/html": [
       "<div>\n",
       "<style scoped>\n",
       "    .dataframe tbody tr th:only-of-type {\n",
       "        vertical-align: middle;\n",
       "    }\n",
       "\n",
       "    .dataframe tbody tr th {\n",
       "        vertical-align: top;\n",
       "    }\n",
       "\n",
       "    .dataframe thead th {\n",
       "        text-align: right;\n",
       "    }\n",
       "</style>\n",
       "<table border=\"1\" class=\"dataframe\">\n",
       "  <thead>\n",
       "    <tr style=\"text-align: right;\">\n",
       "      <th></th>\n",
       "      <th>Unnamed: 0</th>\n",
       "      <th>date</th>\n",
       "      <th>totalCases</th>\n",
       "      <th>newCases</th>\n",
       "      <th>totalRecoveries</th>\n",
       "      <th>newRecoveries</th>\n",
       "      <th>totalDeaths</th>\n",
       "      <th>newDeaths</th>\n",
       "    </tr>\n",
       "  </thead>\n",
       "  <tbody>\n",
       "    <tr>\n",
       "      <th>0</th>\n",
       "      <td>0</td>\n",
       "      <td>2020-01-30</td>\n",
       "      <td>0</td>\n",
       "      <td>0</td>\n",
       "      <td>0</td>\n",
       "      <td>0</td>\n",
       "      <td>0</td>\n",
       "      <td>0</td>\n",
       "    </tr>\n",
       "    <tr>\n",
       "      <th>1</th>\n",
       "      <td>1</td>\n",
       "      <td>2020-01-31</td>\n",
       "      <td>0</td>\n",
       "      <td>0</td>\n",
       "      <td>1</td>\n",
       "      <td>1</td>\n",
       "      <td>0</td>\n",
       "      <td>0</td>\n",
       "    </tr>\n",
       "    <tr>\n",
       "      <th>2</th>\n",
       "      <td>2</td>\n",
       "      <td>2020-02-01</td>\n",
       "      <td>0</td>\n",
       "      <td>0</td>\n",
       "      <td>1</td>\n",
       "      <td>0</td>\n",
       "      <td>0</td>\n",
       "      <td>0</td>\n",
       "    </tr>\n",
       "    <tr>\n",
       "      <th>3</th>\n",
       "      <td>3</td>\n",
       "      <td>2020-02-02</td>\n",
       "      <td>0</td>\n",
       "      <td>0</td>\n",
       "      <td>1</td>\n",
       "      <td>0</td>\n",
       "      <td>0</td>\n",
       "      <td>0</td>\n",
       "    </tr>\n",
       "    <tr>\n",
       "      <th>4</th>\n",
       "      <td>4</td>\n",
       "      <td>2020-02-03</td>\n",
       "      <td>0</td>\n",
       "      <td>0</td>\n",
       "      <td>1</td>\n",
       "      <td>0</td>\n",
       "      <td>0</td>\n",
       "      <td>0</td>\n",
       "    </tr>\n",
       "  </tbody>\n",
       "</table>\n",
       "</div>"
      ],
      "text/plain": [
       "   Unnamed: 0        date  totalCases  newCases  totalRecoveries  \\\n",
       "0           0  2020-01-30           0         0                0   \n",
       "1           1  2020-01-31           0         0                1   \n",
       "2           2  2020-02-01           0         0                1   \n",
       "3           3  2020-02-02           0         0                1   \n",
       "4           4  2020-02-03           0         0                1   \n",
       "\n",
       "   newRecoveries  totalDeaths  newDeaths  \n",
       "0              0            0          0  \n",
       "1              1            0          0  \n",
       "2              0            0          0  \n",
       "3              0            0          0  \n",
       "4              0            0          0  "
      ]
     },
     "execution_count": 215,
     "metadata": {},
     "output_type": "execute_result"
    }
   ],
   "source": [
    "#First 4 data\n",
    "corona_data.head()"
   ]
  },
  {
   "cell_type": "code",
   "execution_count": 216,
   "metadata": {},
   "outputs": [
    {
     "data": {
      "text/html": [
       "<div>\n",
       "<style scoped>\n",
       "    .dataframe tbody tr th:only-of-type {\n",
       "        vertical-align: middle;\n",
       "    }\n",
       "\n",
       "    .dataframe tbody tr th {\n",
       "        vertical-align: top;\n",
       "    }\n",
       "\n",
       "    .dataframe thead th {\n",
       "        text-align: right;\n",
       "    }\n",
       "</style>\n",
       "<table border=\"1\" class=\"dataframe\">\n",
       "  <thead>\n",
       "    <tr style=\"text-align: right;\">\n",
       "      <th></th>\n",
       "      <th>Unnamed: 0</th>\n",
       "      <th>date</th>\n",
       "      <th>totalCases</th>\n",
       "      <th>newCases</th>\n",
       "      <th>totalRecoveries</th>\n",
       "      <th>newRecoveries</th>\n",
       "      <th>totalDeaths</th>\n",
       "      <th>newDeaths</th>\n",
       "    </tr>\n",
       "  </thead>\n",
       "  <tbody>\n",
       "    <tr>\n",
       "      <th>115</th>\n",
       "      <td>115</td>\n",
       "      <td>2020-05-24</td>\n",
       "      <td>602</td>\n",
       "      <td>19</td>\n",
       "      <td>88</td>\n",
       "      <td>17</td>\n",
       "      <td>4</td>\n",
       "      <td>0</td>\n",
       "    </tr>\n",
       "    <tr>\n",
       "      <th>116</th>\n",
       "      <td>116</td>\n",
       "      <td>2020-05-25</td>\n",
       "      <td>681</td>\n",
       "      <td>79</td>\n",
       "      <td>113</td>\n",
       "      <td>25</td>\n",
       "      <td>4</td>\n",
       "      <td>0</td>\n",
       "    </tr>\n",
       "    <tr>\n",
       "      <th>117</th>\n",
       "      <td>117</td>\n",
       "      <td>2020-05-26</td>\n",
       "      <td>771</td>\n",
       "      <td>90</td>\n",
       "      <td>155</td>\n",
       "      <td>42</td>\n",
       "      <td>4</td>\n",
       "      <td>0</td>\n",
       "    </tr>\n",
       "    <tr>\n",
       "      <th>118</th>\n",
       "      <td>118</td>\n",
       "      <td>2020-05-27</td>\n",
       "      <td>771</td>\n",
       "      <td>0</td>\n",
       "      <td>155</td>\n",
       "      <td>0</td>\n",
       "      <td>4</td>\n",
       "      <td>0</td>\n",
       "    </tr>\n",
       "    <tr>\n",
       "      <th>119</th>\n",
       "      <td>119</td>\n",
       "      <td>2020-05-28</td>\n",
       "      <td>771</td>\n",
       "      <td>0</td>\n",
       "      <td>155</td>\n",
       "      <td>0</td>\n",
       "      <td>4</td>\n",
       "      <td>0</td>\n",
       "    </tr>\n",
       "  </tbody>\n",
       "</table>\n",
       "</div>"
      ],
      "text/plain": [
       "     Unnamed: 0        date  totalCases  newCases  totalRecoveries  \\\n",
       "115         115  2020-05-24         602        19               88   \n",
       "116         116  2020-05-25         681        79              113   \n",
       "117         117  2020-05-26         771        90              155   \n",
       "118         118  2020-05-27         771         0              155   \n",
       "119         119  2020-05-28         771         0              155   \n",
       "\n",
       "     newRecoveries  totalDeaths  newDeaths  \n",
       "115             17            4          0  \n",
       "116             25            4          0  \n",
       "117             42            4          0  \n",
       "118              0            4          0  \n",
       "119              0            4          0  "
      ]
     },
     "execution_count": 216,
     "metadata": {},
     "output_type": "execute_result"
    }
   ],
   "source": [
    "#last 4 data\n",
    "corona_data.tail()"
   ]
  },
  {
   "cell_type": "markdown",
   "metadata": {},
   "source": [
    "Loading data from API"
   ]
  },
  {
   "cell_type": "code",
   "execution_count": 219,
   "metadata": {},
   "outputs": [],
   "source": [
    "r=requests.get('https://data.nepalcorona.info/api/v1/covid/timeline')"
   ]
  },
  {
   "cell_type": "code",
   "execution_count": 221,
   "metadata": {},
   "outputs": [
    {
     "data": {
      "text/plain": [
       "[{'date': '2020-01-30',\n",
       "  'totalCases': 0,\n",
       "  'newCases': 0,\n",
       "  'totalRecoveries': 0,\n",
       "  'newRecoveries': 0,\n",
       "  'totalDeaths': 0,\n",
       "  'newDeaths': 0},\n",
       " {'date': '2020-01-31',\n",
       "  'totalCases': 0,\n",
       "  'newCases': 0,\n",
       "  'totalRecoveries': 1,\n",
       "  'newRecoveries': 1,\n",
       "  'totalDeaths': 0,\n",
       "  'newDeaths': 0},\n",
       " {'date': '2020-02-01',\n",
       "  'totalCases': 0,\n",
       "  'newCases': 0,\n",
       "  'totalRecoveries': 1,\n",
       "  'newRecoveries': 0,\n",
       "  'totalDeaths': 0,\n",
       "  'newDeaths': 0},\n",
       " {'date': '2020-02-02',\n",
       "  'totalCases': 0,\n",
       "  'newCases': 0,\n",
       "  'totalRecoveries': 1,\n",
       "  'newRecoveries': 0,\n",
       "  'totalDeaths': 0,\n",
       "  'newDeaths': 0},\n",
       " {'date': '2020-02-03',\n",
       "  'totalCases': 0,\n",
       "  'newCases': 0,\n",
       "  'totalRecoveries': 1,\n",
       "  'newRecoveries': 0,\n",
       "  'totalDeaths': 0,\n",
       "  'newDeaths': 0},\n",
       " {'date': '2020-02-04',\n",
       "  'totalCases': 0,\n",
       "  'newCases': 0,\n",
       "  'totalRecoveries': 1,\n",
       "  'newRecoveries': 0,\n",
       "  'totalDeaths': 0,\n",
       "  'newDeaths': 0},\n",
       " {'date': '2020-02-05',\n",
       "  'totalCases': 0,\n",
       "  'newCases': 0,\n",
       "  'totalRecoveries': 1,\n",
       "  'newRecoveries': 0,\n",
       "  'totalDeaths': 0,\n",
       "  'newDeaths': 0},\n",
       " {'date': '2020-02-06',\n",
       "  'totalCases': 0,\n",
       "  'newCases': 0,\n",
       "  'totalRecoveries': 1,\n",
       "  'newRecoveries': 0,\n",
       "  'totalDeaths': 0,\n",
       "  'newDeaths': 0},\n",
       " {'date': '2020-02-07',\n",
       "  'totalCases': 0,\n",
       "  'newCases': 0,\n",
       "  'totalRecoveries': 1,\n",
       "  'newRecoveries': 0,\n",
       "  'totalDeaths': 0,\n",
       "  'newDeaths': 0},\n",
       " {'date': '2020-02-08',\n",
       "  'totalCases': 0,\n",
       "  'newCases': 0,\n",
       "  'totalRecoveries': 1,\n",
       "  'newRecoveries': 0,\n",
       "  'totalDeaths': 0,\n",
       "  'newDeaths': 0},\n",
       " {'date': '2020-02-09',\n",
       "  'totalCases': 0,\n",
       "  'newCases': 0,\n",
       "  'totalRecoveries': 1,\n",
       "  'newRecoveries': 0,\n",
       "  'totalDeaths': 0,\n",
       "  'newDeaths': 0},\n",
       " {'date': '2020-02-10',\n",
       "  'totalCases': 0,\n",
       "  'newCases': 0,\n",
       "  'totalRecoveries': 1,\n",
       "  'newRecoveries': 0,\n",
       "  'totalDeaths': 0,\n",
       "  'newDeaths': 0},\n",
       " {'date': '2020-02-11',\n",
       "  'totalCases': 0,\n",
       "  'newCases': 0,\n",
       "  'totalRecoveries': 1,\n",
       "  'newRecoveries': 0,\n",
       "  'totalDeaths': 0,\n",
       "  'newDeaths': 0},\n",
       " {'date': '2020-02-12',\n",
       "  'totalCases': 0,\n",
       "  'newCases': 0,\n",
       "  'totalRecoveries': 1,\n",
       "  'newRecoveries': 0,\n",
       "  'totalDeaths': 0,\n",
       "  'newDeaths': 0},\n",
       " {'date': '2020-02-13',\n",
       "  'totalCases': 0,\n",
       "  'newCases': 0,\n",
       "  'totalRecoveries': 1,\n",
       "  'newRecoveries': 0,\n",
       "  'totalDeaths': 0,\n",
       "  'newDeaths': 0},\n",
       " {'date': '2020-02-14',\n",
       "  'totalCases': 0,\n",
       "  'newCases': 0,\n",
       "  'totalRecoveries': 1,\n",
       "  'newRecoveries': 0,\n",
       "  'totalDeaths': 0,\n",
       "  'newDeaths': 0},\n",
       " {'date': '2020-02-15',\n",
       "  'totalCases': 0,\n",
       "  'newCases': 0,\n",
       "  'totalRecoveries': 1,\n",
       "  'newRecoveries': 0,\n",
       "  'totalDeaths': 0,\n",
       "  'newDeaths': 0},\n",
       " {'date': '2020-02-16',\n",
       "  'totalCases': 0,\n",
       "  'newCases': 0,\n",
       "  'totalRecoveries': 1,\n",
       "  'newRecoveries': 0,\n",
       "  'totalDeaths': 0,\n",
       "  'newDeaths': 0},\n",
       " {'date': '2020-02-17',\n",
       "  'totalCases': 0,\n",
       "  'newCases': 0,\n",
       "  'totalRecoveries': 1,\n",
       "  'newRecoveries': 0,\n",
       "  'totalDeaths': 0,\n",
       "  'newDeaths': 0},\n",
       " {'date': '2020-02-18',\n",
       "  'totalCases': 0,\n",
       "  'newCases': 0,\n",
       "  'totalRecoveries': 1,\n",
       "  'newRecoveries': 0,\n",
       "  'totalDeaths': 0,\n",
       "  'newDeaths': 0},\n",
       " {'date': '2020-02-19',\n",
       "  'totalCases': 0,\n",
       "  'newCases': 0,\n",
       "  'totalRecoveries': 1,\n",
       "  'newRecoveries': 0,\n",
       "  'totalDeaths': 0,\n",
       "  'newDeaths': 0},\n",
       " {'date': '2020-02-20',\n",
       "  'totalCases': 0,\n",
       "  'newCases': 0,\n",
       "  'totalRecoveries': 2,\n",
       "  'newRecoveries': 1,\n",
       "  'totalDeaths': 0,\n",
       "  'newDeaths': 0},\n",
       " {'date': '2020-02-21',\n",
       "  'totalCases': 0,\n",
       "  'newCases': 0,\n",
       "  'totalRecoveries': 2,\n",
       "  'newRecoveries': 0,\n",
       "  'totalDeaths': 0,\n",
       "  'newDeaths': 0},\n",
       " {'date': '2020-02-22',\n",
       "  'totalCases': 0,\n",
       "  'newCases': 0,\n",
       "  'totalRecoveries': 2,\n",
       "  'newRecoveries': 0,\n",
       "  'totalDeaths': 0,\n",
       "  'newDeaths': 0},\n",
       " {'date': '2020-02-23',\n",
       "  'totalCases': 0,\n",
       "  'newCases': 0,\n",
       "  'totalRecoveries': 2,\n",
       "  'newRecoveries': 0,\n",
       "  'totalDeaths': 0,\n",
       "  'newDeaths': 0},\n",
       " {'date': '2020-02-24',\n",
       "  'totalCases': 0,\n",
       "  'newCases': 0,\n",
       "  'totalRecoveries': 2,\n",
       "  'newRecoveries': 0,\n",
       "  'totalDeaths': 0,\n",
       "  'newDeaths': 0},\n",
       " {'date': '2020-02-25',\n",
       "  'totalCases': 0,\n",
       "  'newCases': 0,\n",
       "  'totalRecoveries': 2,\n",
       "  'newRecoveries': 0,\n",
       "  'totalDeaths': 0,\n",
       "  'newDeaths': 0},\n",
       " {'date': '2020-02-26',\n",
       "  'totalCases': 0,\n",
       "  'newCases': 0,\n",
       "  'totalRecoveries': 2,\n",
       "  'newRecoveries': 0,\n",
       "  'totalDeaths': 0,\n",
       "  'newDeaths': 0},\n",
       " {'date': '2020-02-27',\n",
       "  'totalCases': 0,\n",
       "  'newCases': 0,\n",
       "  'totalRecoveries': 2,\n",
       "  'newRecoveries': 0,\n",
       "  'totalDeaths': 0,\n",
       "  'newDeaths': 0},\n",
       " {'date': '2020-02-28',\n",
       "  'totalCases': 0,\n",
       "  'newCases': 0,\n",
       "  'totalRecoveries': 2,\n",
       "  'newRecoveries': 0,\n",
       "  'totalDeaths': 0,\n",
       "  'newDeaths': 0},\n",
       " {'date': '2020-02-29',\n",
       "  'totalCases': 0,\n",
       "  'newCases': 0,\n",
       "  'totalRecoveries': 2,\n",
       "  'newRecoveries': 0,\n",
       "  'totalDeaths': 0,\n",
       "  'newDeaths': 0},\n",
       " {'date': '2020-03-01',\n",
       "  'totalCases': 0,\n",
       "  'newCases': 0,\n",
       "  'totalRecoveries': 2,\n",
       "  'newRecoveries': 0,\n",
       "  'totalDeaths': 0,\n",
       "  'newDeaths': 0},\n",
       " {'date': '2020-03-02',\n",
       "  'totalCases': 0,\n",
       "  'newCases': 0,\n",
       "  'totalRecoveries': 2,\n",
       "  'newRecoveries': 0,\n",
       "  'totalDeaths': 0,\n",
       "  'newDeaths': 0},\n",
       " {'date': '2020-03-03',\n",
       "  'totalCases': 0,\n",
       "  'newCases': 0,\n",
       "  'totalRecoveries': 2,\n",
       "  'newRecoveries': 0,\n",
       "  'totalDeaths': 0,\n",
       "  'newDeaths': 0},\n",
       " {'date': '2020-03-04',\n",
       "  'totalCases': 0,\n",
       "  'newCases': 0,\n",
       "  'totalRecoveries': 2,\n",
       "  'newRecoveries': 0,\n",
       "  'totalDeaths': 0,\n",
       "  'newDeaths': 0},\n",
       " {'date': '2020-03-05',\n",
       "  'totalCases': 0,\n",
       "  'newCases': 0,\n",
       "  'totalRecoveries': 2,\n",
       "  'newRecoveries': 0,\n",
       "  'totalDeaths': 0,\n",
       "  'newDeaths': 0},\n",
       " {'date': '2020-03-06',\n",
       "  'totalCases': 0,\n",
       "  'newCases': 0,\n",
       "  'totalRecoveries': 2,\n",
       "  'newRecoveries': 0,\n",
       "  'totalDeaths': 0,\n",
       "  'newDeaths': 0},\n",
       " {'date': '2020-03-07',\n",
       "  'totalCases': 0,\n",
       "  'newCases': 0,\n",
       "  'totalRecoveries': 2,\n",
       "  'newRecoveries': 0,\n",
       "  'totalDeaths': 0,\n",
       "  'newDeaths': 0},\n",
       " {'date': '2020-03-08',\n",
       "  'totalCases': 0,\n",
       "  'newCases': 0,\n",
       "  'totalRecoveries': 2,\n",
       "  'newRecoveries': 0,\n",
       "  'totalDeaths': 0,\n",
       "  'newDeaths': 0},\n",
       " {'date': '2020-03-09',\n",
       "  'totalCases': 0,\n",
       "  'newCases': 0,\n",
       "  'totalRecoveries': 2,\n",
       "  'newRecoveries': 0,\n",
       "  'totalDeaths': 0,\n",
       "  'newDeaths': 0},\n",
       " {'date': '2020-03-10',\n",
       "  'totalCases': 0,\n",
       "  'newCases': 0,\n",
       "  'totalRecoveries': 2,\n",
       "  'newRecoveries': 0,\n",
       "  'totalDeaths': 0,\n",
       "  'newDeaths': 0},\n",
       " {'date': '2020-03-11',\n",
       "  'totalCases': 0,\n",
       "  'newCases': 0,\n",
       "  'totalRecoveries': 2,\n",
       "  'newRecoveries': 0,\n",
       "  'totalDeaths': 0,\n",
       "  'newDeaths': 0},\n",
       " {'date': '2020-03-12',\n",
       "  'totalCases': 0,\n",
       "  'newCases': 0,\n",
       "  'totalRecoveries': 2,\n",
       "  'newRecoveries': 0,\n",
       "  'totalDeaths': 0,\n",
       "  'newDeaths': 0},\n",
       " {'date': '2020-03-13',\n",
       "  'totalCases': 0,\n",
       "  'newCases': 0,\n",
       "  'totalRecoveries': 2,\n",
       "  'newRecoveries': 0,\n",
       "  'totalDeaths': 0,\n",
       "  'newDeaths': 0},\n",
       " {'date': '2020-03-14',\n",
       "  'totalCases': 0,\n",
       "  'newCases': 0,\n",
       "  'totalRecoveries': 2,\n",
       "  'newRecoveries': 0,\n",
       "  'totalDeaths': 0,\n",
       "  'newDeaths': 0},\n",
       " {'date': '2020-03-15',\n",
       "  'totalCases': 0,\n",
       "  'newCases': 0,\n",
       "  'totalRecoveries': 2,\n",
       "  'newRecoveries': 0,\n",
       "  'totalDeaths': 0,\n",
       "  'newDeaths': 0},\n",
       " {'date': '2020-03-16',\n",
       "  'totalCases': 0,\n",
       "  'newCases': 0,\n",
       "  'totalRecoveries': 2,\n",
       "  'newRecoveries': 0,\n",
       "  'totalDeaths': 0,\n",
       "  'newDeaths': 0},\n",
       " {'date': '2020-03-17',\n",
       "  'totalCases': 0,\n",
       "  'newCases': 0,\n",
       "  'totalRecoveries': 2,\n",
       "  'newRecoveries': 0,\n",
       "  'totalDeaths': 0,\n",
       "  'newDeaths': 0},\n",
       " {'date': '2020-03-18',\n",
       "  'totalCases': 0,\n",
       "  'newCases': 0,\n",
       "  'totalRecoveries': 2,\n",
       "  'newRecoveries': 0,\n",
       "  'totalDeaths': 0,\n",
       "  'newDeaths': 0},\n",
       " {'date': '2020-03-19',\n",
       "  'totalCases': 0,\n",
       "  'newCases': 0,\n",
       "  'totalRecoveries': 2,\n",
       "  'newRecoveries': 0,\n",
       "  'totalDeaths': 0,\n",
       "  'newDeaths': 0},\n",
       " {'date': '2020-03-20',\n",
       "  'totalCases': 0,\n",
       "  'newCases': 0,\n",
       "  'totalRecoveries': 2,\n",
       "  'newRecoveries': 0,\n",
       "  'totalDeaths': 0,\n",
       "  'newDeaths': 0},\n",
       " {'date': '2020-03-21',\n",
       "  'totalCases': 0,\n",
       "  'newCases': 0,\n",
       "  'totalRecoveries': 2,\n",
       "  'newRecoveries': 0,\n",
       "  'totalDeaths': 0,\n",
       "  'newDeaths': 0},\n",
       " {'date': '2020-03-22',\n",
       "  'totalCases': 0,\n",
       "  'newCases': 0,\n",
       "  'totalRecoveries': 2,\n",
       "  'newRecoveries': 0,\n",
       "  'totalDeaths': 0,\n",
       "  'newDeaths': 0},\n",
       " {'date': '2020-03-23',\n",
       "  'totalCases': 1,\n",
       "  'newCases': 1,\n",
       "  'totalRecoveries': 2,\n",
       "  'newRecoveries': 0,\n",
       "  'totalDeaths': 0,\n",
       "  'newDeaths': 0},\n",
       " {'date': '2020-03-24',\n",
       "  'totalCases': 1,\n",
       "  'newCases': 0,\n",
       "  'totalRecoveries': 2,\n",
       "  'newRecoveries': 0,\n",
       "  'totalDeaths': 0,\n",
       "  'newDeaths': 0},\n",
       " {'date': '2020-03-25',\n",
       "  'totalCases': 2,\n",
       "  'newCases': 1,\n",
       "  'totalRecoveries': 2,\n",
       "  'newRecoveries': 0,\n",
       "  'totalDeaths': 0,\n",
       "  'newDeaths': 0},\n",
       " {'date': '2020-03-26',\n",
       "  'totalCases': 2,\n",
       "  'newCases': 0,\n",
       "  'totalRecoveries': 2,\n",
       "  'newRecoveries': 0,\n",
       "  'totalDeaths': 0,\n",
       "  'newDeaths': 0},\n",
       " {'date': '2020-03-27',\n",
       "  'totalCases': 3,\n",
       "  'newCases': 1,\n",
       "  'totalRecoveries': 2,\n",
       "  'newRecoveries': 0,\n",
       "  'totalDeaths': 0,\n",
       "  'newDeaths': 0},\n",
       " {'date': '2020-03-28',\n",
       "  'totalCases': 4,\n",
       "  'newCases': 1,\n",
       "  'totalRecoveries': 2,\n",
       "  'newRecoveries': 0,\n",
       "  'totalDeaths': 0,\n",
       "  'newDeaths': 0},\n",
       " {'date': '2020-03-29',\n",
       "  'totalCases': 4,\n",
       "  'newCases': 0,\n",
       "  'totalRecoveries': 2,\n",
       "  'newRecoveries': 0,\n",
       "  'totalDeaths': 0,\n",
       "  'newDeaths': 0},\n",
       " {'date': '2020-03-30',\n",
       "  'totalCases': 4,\n",
       "  'newCases': 0,\n",
       "  'totalRecoveries': 2,\n",
       "  'newRecoveries': 0,\n",
       "  'totalDeaths': 0,\n",
       "  'newDeaths': 0},\n",
       " {'date': '2020-03-31',\n",
       "  'totalCases': 4,\n",
       "  'newCases': 0,\n",
       "  'totalRecoveries': 2,\n",
       "  'newRecoveries': 0,\n",
       "  'totalDeaths': 0,\n",
       "  'newDeaths': 0},\n",
       " {'date': '2020-04-01',\n",
       "  'totalCases': 4,\n",
       "  'newCases': 0,\n",
       "  'totalRecoveries': 2,\n",
       "  'newRecoveries': 0,\n",
       "  'totalDeaths': 0,\n",
       "  'newDeaths': 0},\n",
       " {'date': '2020-04-02',\n",
       "  'totalCases': 5,\n",
       "  'newCases': 1,\n",
       "  'totalRecoveries': 2,\n",
       "  'newRecoveries': 0,\n",
       "  'totalDeaths': 0,\n",
       "  'newDeaths': 0},\n",
       " {'date': '2020-04-03',\n",
       "  'totalCases': 5,\n",
       "  'newCases': 0,\n",
       "  'totalRecoveries': 2,\n",
       "  'newRecoveries': 0,\n",
       "  'totalDeaths': 0,\n",
       "  'newDeaths': 0},\n",
       " {'date': '2020-04-04',\n",
       "  'totalCases': 8,\n",
       "  'newCases': 3,\n",
       "  'totalRecoveries': 2,\n",
       "  'newRecoveries': 0,\n",
       "  'totalDeaths': 0,\n",
       "  'newDeaths': 0},\n",
       " {'date': '2020-04-05',\n",
       "  'totalCases': 8,\n",
       "  'newCases': 0,\n",
       "  'totalRecoveries': 2,\n",
       "  'newRecoveries': 0,\n",
       "  'totalDeaths': 0,\n",
       "  'newDeaths': 0},\n",
       " {'date': '2020-04-06',\n",
       "  'totalCases': 8,\n",
       "  'newCases': 0,\n",
       "  'totalRecoveries': 2,\n",
       "  'newRecoveries': 0,\n",
       "  'totalDeaths': 0,\n",
       "  'newDeaths': 0},\n",
       " {'date': '2020-04-07',\n",
       "  'totalCases': 8,\n",
       "  'newCases': 0,\n",
       "  'totalRecoveries': 2,\n",
       "  'newRecoveries': 0,\n",
       "  'totalDeaths': 0,\n",
       "  'newDeaths': 0},\n",
       " {'date': '2020-04-08',\n",
       "  'totalCases': 8,\n",
       "  'newCases': 0,\n",
       "  'totalRecoveries': 2,\n",
       "  'newRecoveries': 0,\n",
       "  'totalDeaths': 0,\n",
       "  'newDeaths': 0},\n",
       " {'date': '2020-04-09',\n",
       "  'totalCases': 8,\n",
       "  'newCases': 0,\n",
       "  'totalRecoveries': 2,\n",
       "  'newRecoveries': 0,\n",
       "  'totalDeaths': 0,\n",
       "  'newDeaths': 0},\n",
       " {'date': '2020-04-10',\n",
       "  'totalCases': 8,\n",
       "  'newCases': 0,\n",
       "  'totalRecoveries': 2,\n",
       "  'newRecoveries': 0,\n",
       "  'totalDeaths': 0,\n",
       "  'newDeaths': 0},\n",
       " {'date': '2020-04-11',\n",
       "  'totalCases': 8,\n",
       "  'newCases': 0,\n",
       "  'totalRecoveries': 2,\n",
       "  'newRecoveries': 0,\n",
       "  'totalDeaths': 0,\n",
       "  'newDeaths': 0},\n",
       " {'date': '2020-04-12',\n",
       "  'totalCases': 11,\n",
       "  'newCases': 3,\n",
       "  'totalRecoveries': 2,\n",
       "  'newRecoveries': 0,\n",
       "  'totalDeaths': 0,\n",
       "  'newDeaths': 0},\n",
       " {'date': '2020-04-13',\n",
       "  'totalCases': 13,\n",
       "  'newCases': 2,\n",
       "  'totalRecoveries': 2,\n",
       "  'newRecoveries': 0,\n",
       "  'totalDeaths': 0,\n",
       "  'newDeaths': 0},\n",
       " {'date': '2020-04-14',\n",
       "  'totalCases': 15,\n",
       "  'newCases': 2,\n",
       "  'totalRecoveries': 2,\n",
       "  'newRecoveries': 0,\n",
       "  'totalDeaths': 0,\n",
       "  'newDeaths': 0},\n",
       " {'date': '2020-04-15',\n",
       "  'totalCases': 15,\n",
       "  'newCases': 0,\n",
       "  'totalRecoveries': 2,\n",
       "  'newRecoveries': 0,\n",
       "  'totalDeaths': 0,\n",
       "  'newDeaths': 0},\n",
       " {'date': '2020-04-16',\n",
       "  'totalCases': 15,\n",
       "  'newCases': 0,\n",
       "  'totalRecoveries': 2,\n",
       "  'newRecoveries': 0,\n",
       "  'totalDeaths': 0,\n",
       "  'newDeaths': 0},\n",
       " {'date': '2020-04-17',\n",
       "  'totalCases': 29,\n",
       "  'newCases': 14,\n",
       "  'totalRecoveries': 2,\n",
       "  'newRecoveries': 0,\n",
       "  'totalDeaths': 0,\n",
       "  'newDeaths': 0},\n",
       " {'date': '2020-04-18',\n",
       "  'totalCases': 30,\n",
       "  'newCases': 1,\n",
       "  'totalRecoveries': 4,\n",
       "  'newRecoveries': 2,\n",
       "  'totalDeaths': 0,\n",
       "  'newDeaths': 0},\n",
       " {'date': '2020-04-19',\n",
       "  'totalCases': 30,\n",
       "  'newCases': 0,\n",
       "  'totalRecoveries': 5,\n",
       "  'newRecoveries': 1,\n",
       "  'totalDeaths': 0,\n",
       "  'newDeaths': 0},\n",
       " {'date': '2020-04-20',\n",
       "  'totalCases': 30,\n",
       "  'newCases': 0,\n",
       "  'totalRecoveries': 5,\n",
       "  'newRecoveries': 0,\n",
       "  'totalDeaths': 0,\n",
       "  'newDeaths': 0},\n",
       " {'date': '2020-04-21',\n",
       "  'totalCases': 41,\n",
       "  'newCases': 11,\n",
       "  'totalRecoveries': 6,\n",
       "  'newRecoveries': 1,\n",
       "  'totalDeaths': 0,\n",
       "  'newDeaths': 0},\n",
       " {'date': '2020-04-22',\n",
       "  'totalCases': 44,\n",
       "  'newCases': 3,\n",
       "  'totalRecoveries': 8,\n",
       "  'newRecoveries': 2,\n",
       "  'totalDeaths': 0,\n",
       "  'newDeaths': 0},\n",
       " {'date': '2020-04-23',\n",
       "  'totalCases': 47,\n",
       "  'newCases': 3,\n",
       "  'totalRecoveries': 10,\n",
       "  'newRecoveries': 2,\n",
       "  'totalDeaths': 0,\n",
       "  'newDeaths': 0},\n",
       " {'date': '2020-04-24',\n",
       "  'totalCases': 48,\n",
       "  'newCases': 1,\n",
       "  'totalRecoveries': 12,\n",
       "  'newRecoveries': 2,\n",
       "  'totalDeaths': 0,\n",
       "  'newDeaths': 0},\n",
       " {'date': '2020-04-25',\n",
       "  'totalCases': 48,\n",
       "  'newCases': 0,\n",
       "  'totalRecoveries': 13,\n",
       "  'newRecoveries': 1,\n",
       "  'totalDeaths': 0,\n",
       "  'newDeaths': 0},\n",
       " {'date': '2020-04-26',\n",
       "  'totalCases': 51,\n",
       "  'newCases': 3,\n",
       "  'totalRecoveries': 17,\n",
       "  'newRecoveries': 4,\n",
       "  'totalDeaths': 0,\n",
       "  'newDeaths': 0},\n",
       " {'date': '2020-04-27',\n",
       "  'totalCases': 51,\n",
       "  'newCases': 0,\n",
       "  'totalRecoveries': 17,\n",
       "  'newRecoveries': 0,\n",
       "  'totalDeaths': 0,\n",
       "  'newDeaths': 0},\n",
       " {'date': '2020-04-28',\n",
       "  'totalCases': 53,\n",
       "  'newCases': 2,\n",
       "  'totalRecoveries': 17,\n",
       "  'newRecoveries': 0,\n",
       "  'totalDeaths': 0,\n",
       "  'newDeaths': 0},\n",
       " {'date': '2020-04-29',\n",
       "  'totalCases': 56,\n",
       "  'newCases': 3,\n",
       "  'totalRecoveries': 17,\n",
       "  'newRecoveries': 0,\n",
       "  'totalDeaths': 0,\n",
       "  'newDeaths': 0},\n",
       " {'date': '2020-04-30',\n",
       "  'totalCases': 56,\n",
       "  'newCases': 0,\n",
       "  'totalRecoveries': 17,\n",
       "  'newRecoveries': 0,\n",
       "  'totalDeaths': 0,\n",
       "  'newDeaths': 0},\n",
       " {'date': '2020-05-01',\n",
       "  'totalCases': 58,\n",
       "  'newCases': 2,\n",
       "  'totalRecoveries': 17,\n",
       "  'newRecoveries': 0,\n",
       "  'totalDeaths': 0,\n",
       "  'newDeaths': 0},\n",
       " {'date': '2020-05-02',\n",
       "  'totalCases': 58,\n",
       "  'newCases': 0,\n",
       "  'totalRecoveries': 17,\n",
       "  'newRecoveries': 0,\n",
       "  'totalDeaths': 0,\n",
       "  'newDeaths': 0},\n",
       " {'date': '2020-05-03',\n",
       "  'totalCases': 74,\n",
       "  'newCases': 16,\n",
       "  'totalRecoveries': 17,\n",
       "  'newRecoveries': 0,\n",
       "  'totalDeaths': 0,\n",
       "  'newDeaths': 0},\n",
       " {'date': '2020-05-04',\n",
       "  'totalCases': 74,\n",
       "  'newCases': 0,\n",
       "  'totalRecoveries': 17,\n",
       "  'newRecoveries': 0,\n",
       "  'totalDeaths': 0,\n",
       "  'newDeaths': 0},\n",
       " {'date': '2020-05-05',\n",
       "  'totalCases': 81,\n",
       "  'newCases': 7,\n",
       "  'totalRecoveries': 17,\n",
       "  'newRecoveries': 0,\n",
       "  'totalDeaths': 0,\n",
       "  'newDeaths': 0},\n",
       " {'date': '2020-05-06',\n",
       "  'totalCases': 98,\n",
       "  'newCases': 17,\n",
       "  'totalRecoveries': 23,\n",
       "  'newRecoveries': 6,\n",
       "  'totalDeaths': 0,\n",
       "  'newDeaths': 0},\n",
       " {'date': '2020-05-07',\n",
       "  'totalCases': 100,\n",
       "  'newCases': 2,\n",
       "  'totalRecoveries': 23,\n",
       "  'newRecoveries': 0,\n",
       "  'totalDeaths': 0,\n",
       "  'newDeaths': 0},\n",
       " {'date': '2020-05-08',\n",
       "  'totalCases': 101,\n",
       "  'newCases': 1,\n",
       "  'totalRecoveries': 31,\n",
       "  'newRecoveries': 8,\n",
       "  'totalDeaths': 0,\n",
       "  'newDeaths': 0},\n",
       " {'date': '2020-05-09',\n",
       "  'totalCases': 108,\n",
       "  'newCases': 7,\n",
       "  'totalRecoveries': 32,\n",
       "  'newRecoveries': 1,\n",
       "  'totalDeaths': 0,\n",
       "  'newDeaths': 0},\n",
       " {'date': '2020-05-10',\n",
       "  'totalCases': 109,\n",
       "  'newCases': 1,\n",
       "  'totalRecoveries': 32,\n",
       "  'newRecoveries': 0,\n",
       "  'totalDeaths': 0,\n",
       "  'newDeaths': 0},\n",
       " {'date': '2020-05-11',\n",
       "  'totalCases': 133,\n",
       "  'newCases': 24,\n",
       "  'totalRecoveries': 34,\n",
       "  'newRecoveries': 2,\n",
       "  'totalDeaths': 0,\n",
       "  'newDeaths': 0},\n",
       " {'date': '2020-05-12',\n",
       "  'totalCases': 216,\n",
       "  'newCases': 83,\n",
       "  'totalRecoveries': 34,\n",
       "  'newRecoveries': 0,\n",
       "  'totalDeaths': 0,\n",
       "  'newDeaths': 0},\n",
       " {'date': '2020-05-13',\n",
       "  'totalCases': 242,\n",
       "  'newCases': 26,\n",
       "  'totalRecoveries': 36,\n",
       "  'newRecoveries': 2,\n",
       "  'totalDeaths': 0,\n",
       "  'newDeaths': 0},\n",
       " {'date': '2020-05-14',\n",
       "  'totalCases': 248,\n",
       "  'newCases': 6,\n",
       "  'totalRecoveries': 36,\n",
       "  'newRecoveries': 0,\n",
       "  'totalDeaths': 1,\n",
       "  'newDeaths': 1},\n",
       " {'date': '2020-05-15',\n",
       "  'totalCases': 266,\n",
       "  'newCases': 18,\n",
       "  'totalRecoveries': 37,\n",
       "  'newRecoveries': 1,\n",
       "  'totalDeaths': 1,\n",
       "  'newDeaths': 0},\n",
       " {'date': '2020-05-16',\n",
       "  'totalCases': 280,\n",
       "  'newCases': 14,\n",
       "  'totalRecoveries': 37,\n",
       "  'newRecoveries': 0,\n",
       "  'totalDeaths': 1,\n",
       "  'newDeaths': 0},\n",
       " {'date': '2020-05-17',\n",
       "  'totalCases': 294,\n",
       "  'newCases': 14,\n",
       "  'totalRecoveries': 37,\n",
       "  'newRecoveries': 0,\n",
       "  'totalDeaths': 3,\n",
       "  'newDeaths': 2},\n",
       " {'date': '2020-05-18',\n",
       "  'totalCases': 374,\n",
       "  'newCases': 80,\n",
       "  'totalRecoveries': 37,\n",
       "  'newRecoveries': 0,\n",
       "  'totalDeaths': 3,\n",
       "  'newDeaths': 0},\n",
       " {'date': '2020-05-19',\n",
       "  'totalCases': 401,\n",
       "  'newCases': 27,\n",
       "  'totalRecoveries': 38,\n",
       "  'newRecoveries': 1,\n",
       "  'totalDeaths': 3,\n",
       "  'newDeaths': 0},\n",
       " {'date': '2020-05-20',\n",
       "  'totalCases': 426,\n",
       "  'newCases': 25,\n",
       "  'totalRecoveries': 46,\n",
       "  'newRecoveries': 8,\n",
       "  'totalDeaths': 3,\n",
       "  'newDeaths': 0},\n",
       " {'date': '2020-05-21',\n",
       "  'totalCases': 456,\n",
       "  'newCases': 30,\n",
       "  'totalRecoveries': 50,\n",
       "  'newRecoveries': 4,\n",
       "  'totalDeaths': 4,\n",
       "  'newDeaths': 1},\n",
       " {'date': '2020-05-22',\n",
       "  'totalCases': 515,\n",
       "  'newCases': 59,\n",
       "  'totalRecoveries': 71,\n",
       "  'newRecoveries': 21,\n",
       "  'totalDeaths': 4,\n",
       "  'newDeaths': 0},\n",
       " {'date': '2020-05-23',\n",
       "  'totalCases': 583,\n",
       "  'newCases': 68,\n",
       "  'totalRecoveries': 71,\n",
       "  'newRecoveries': 0,\n",
       "  'totalDeaths': 4,\n",
       "  'newDeaths': 0},\n",
       " {'date': '2020-05-24',\n",
       "  'totalCases': 602,\n",
       "  'newCases': 19,\n",
       "  'totalRecoveries': 88,\n",
       "  'newRecoveries': 17,\n",
       "  'totalDeaths': 4,\n",
       "  'newDeaths': 0},\n",
       " {'date': '2020-05-25',\n",
       "  'totalCases': 681,\n",
       "  'newCases': 79,\n",
       "  'totalRecoveries': 113,\n",
       "  'newRecoveries': 25,\n",
       "  'totalDeaths': 4,\n",
       "  'newDeaths': 0},\n",
       " {'date': '2020-05-26',\n",
       "  'totalCases': 771,\n",
       "  'newCases': 90,\n",
       "  'totalRecoveries': 155,\n",
       "  'newRecoveries': 42,\n",
       "  'totalDeaths': 4,\n",
       "  'newDeaths': 0},\n",
       " {'date': '2020-05-27',\n",
       "  'totalCases': 771,\n",
       "  'newCases': 0,\n",
       "  'totalRecoveries': 155,\n",
       "  'newRecoveries': 0,\n",
       "  'totalDeaths': 4,\n",
       "  'newDeaths': 0},\n",
       " {'date': '2020-05-28',\n",
       "  'totalCases': 771,\n",
       "  'newCases': 0,\n",
       "  'totalRecoveries': 155,\n",
       "  'newRecoveries': 0,\n",
       "  'totalDeaths': 4,\n",
       "  'newDeaths': 0}]"
      ]
     },
     "execution_count": 221,
     "metadata": {},
     "output_type": "execute_result"
    }
   ],
   "source": [
    "r.json()"
   ]
  },
  {
   "cell_type": "code",
   "execution_count": 222,
   "metadata": {},
   "outputs": [
    {
     "data": {
      "text/plain": [
       "list"
      ]
     },
     "execution_count": 222,
     "metadata": {},
     "output_type": "execute_result"
    }
   ],
   "source": [
    "type(r.json())"
   ]
  },
  {
   "cell_type": "code",
   "execution_count": 223,
   "metadata": {},
   "outputs": [],
   "source": [
    "#Converting JSON into dataframes\n",
    "#read_json ([])\n",
    "df = pd.read_json(json.dumps(r.json()))"
   ]
  },
  {
   "cell_type": "code",
   "execution_count": 224,
   "metadata": {},
   "outputs": [
    {
     "data": {
      "text/html": [
       "<div>\n",
       "<style scoped>\n",
       "    .dataframe tbody tr th:only-of-type {\n",
       "        vertical-align: middle;\n",
       "    }\n",
       "\n",
       "    .dataframe tbody tr th {\n",
       "        vertical-align: top;\n",
       "    }\n",
       "\n",
       "    .dataframe thead th {\n",
       "        text-align: right;\n",
       "    }\n",
       "</style>\n",
       "<table border=\"1\" class=\"dataframe\">\n",
       "  <thead>\n",
       "    <tr style=\"text-align: right;\">\n",
       "      <th></th>\n",
       "      <th>date</th>\n",
       "      <th>totalCases</th>\n",
       "      <th>newCases</th>\n",
       "      <th>totalRecoveries</th>\n",
       "      <th>newRecoveries</th>\n",
       "      <th>totalDeaths</th>\n",
       "      <th>newDeaths</th>\n",
       "    </tr>\n",
       "  </thead>\n",
       "  <tbody>\n",
       "    <tr>\n",
       "      <th>0</th>\n",
       "      <td>2020-01-30</td>\n",
       "      <td>0</td>\n",
       "      <td>0</td>\n",
       "      <td>0</td>\n",
       "      <td>0</td>\n",
       "      <td>0</td>\n",
       "      <td>0</td>\n",
       "    </tr>\n",
       "    <tr>\n",
       "      <th>1</th>\n",
       "      <td>2020-01-31</td>\n",
       "      <td>0</td>\n",
       "      <td>0</td>\n",
       "      <td>1</td>\n",
       "      <td>1</td>\n",
       "      <td>0</td>\n",
       "      <td>0</td>\n",
       "    </tr>\n",
       "    <tr>\n",
       "      <th>2</th>\n",
       "      <td>2020-02-01</td>\n",
       "      <td>0</td>\n",
       "      <td>0</td>\n",
       "      <td>1</td>\n",
       "      <td>0</td>\n",
       "      <td>0</td>\n",
       "      <td>0</td>\n",
       "    </tr>\n",
       "    <tr>\n",
       "      <th>3</th>\n",
       "      <td>2020-02-02</td>\n",
       "      <td>0</td>\n",
       "      <td>0</td>\n",
       "      <td>1</td>\n",
       "      <td>0</td>\n",
       "      <td>0</td>\n",
       "      <td>0</td>\n",
       "    </tr>\n",
       "    <tr>\n",
       "      <th>4</th>\n",
       "      <td>2020-02-03</td>\n",
       "      <td>0</td>\n",
       "      <td>0</td>\n",
       "      <td>1</td>\n",
       "      <td>0</td>\n",
       "      <td>0</td>\n",
       "      <td>0</td>\n",
       "    </tr>\n",
       "    <tr>\n",
       "      <th>...</th>\n",
       "      <td>...</td>\n",
       "      <td>...</td>\n",
       "      <td>...</td>\n",
       "      <td>...</td>\n",
       "      <td>...</td>\n",
       "      <td>...</td>\n",
       "      <td>...</td>\n",
       "    </tr>\n",
       "    <tr>\n",
       "      <th>115</th>\n",
       "      <td>2020-05-24</td>\n",
       "      <td>602</td>\n",
       "      <td>19</td>\n",
       "      <td>88</td>\n",
       "      <td>17</td>\n",
       "      <td>4</td>\n",
       "      <td>0</td>\n",
       "    </tr>\n",
       "    <tr>\n",
       "      <th>116</th>\n",
       "      <td>2020-05-25</td>\n",
       "      <td>681</td>\n",
       "      <td>79</td>\n",
       "      <td>113</td>\n",
       "      <td>25</td>\n",
       "      <td>4</td>\n",
       "      <td>0</td>\n",
       "    </tr>\n",
       "    <tr>\n",
       "      <th>117</th>\n",
       "      <td>2020-05-26</td>\n",
       "      <td>771</td>\n",
       "      <td>90</td>\n",
       "      <td>155</td>\n",
       "      <td>42</td>\n",
       "      <td>4</td>\n",
       "      <td>0</td>\n",
       "    </tr>\n",
       "    <tr>\n",
       "      <th>118</th>\n",
       "      <td>2020-05-27</td>\n",
       "      <td>771</td>\n",
       "      <td>0</td>\n",
       "      <td>155</td>\n",
       "      <td>0</td>\n",
       "      <td>4</td>\n",
       "      <td>0</td>\n",
       "    </tr>\n",
       "    <tr>\n",
       "      <th>119</th>\n",
       "      <td>2020-05-28</td>\n",
       "      <td>771</td>\n",
       "      <td>0</td>\n",
       "      <td>155</td>\n",
       "      <td>0</td>\n",
       "      <td>4</td>\n",
       "      <td>0</td>\n",
       "    </tr>\n",
       "  </tbody>\n",
       "</table>\n",
       "<p>120 rows × 7 columns</p>\n",
       "</div>"
      ],
      "text/plain": [
       "          date  totalCases  newCases  totalRecoveries  newRecoveries  \\\n",
       "0   2020-01-30           0         0                0              0   \n",
       "1   2020-01-31           0         0                1              1   \n",
       "2   2020-02-01           0         0                1              0   \n",
       "3   2020-02-02           0         0                1              0   \n",
       "4   2020-02-03           0         0                1              0   \n",
       "..         ...         ...       ...              ...            ...   \n",
       "115 2020-05-24         602        19               88             17   \n",
       "116 2020-05-25         681        79              113             25   \n",
       "117 2020-05-26         771        90              155             42   \n",
       "118 2020-05-27         771         0              155              0   \n",
       "119 2020-05-28         771         0              155              0   \n",
       "\n",
       "     totalDeaths  newDeaths  \n",
       "0              0          0  \n",
       "1              0          0  \n",
       "2              0          0  \n",
       "3              0          0  \n",
       "4              0          0  \n",
       "..           ...        ...  \n",
       "115            4          0  \n",
       "116            4          0  \n",
       "117            4          0  \n",
       "118            4          0  \n",
       "119            4          0  \n",
       "\n",
       "[120 rows x 7 columns]"
      ]
     },
     "execution_count": 224,
     "metadata": {},
     "output_type": "execute_result"
    }
   ],
   "source": [
    "df"
   ]
  },
  {
   "cell_type": "code",
   "execution_count": 225,
   "metadata": {},
   "outputs": [
    {
     "data": {
      "text/plain": [
       "date               0\n",
       "totalCases         0\n",
       "newCases           0\n",
       "totalRecoveries    0\n",
       "newRecoveries      0\n",
       "totalDeaths        0\n",
       "newDeaths          0\n",
       "dtype: int64"
      ]
     },
     "execution_count": 225,
     "metadata": {},
     "output_type": "execute_result"
    }
   ],
   "source": [
    "df.isnull().sum()"
   ]
  },
  {
   "cell_type": "code",
   "execution_count": 227,
   "metadata": {},
   "outputs": [],
   "source": [
    "df.to_csv(\"CovidData.csv\")"
   ]
  },
  {
   "cell_type": "markdown",
   "metadata": {},
   "source": [
    "## Visualizing the Data"
   ]
  },
  {
   "cell_type": "code",
   "execution_count": 228,
   "metadata": {},
   "outputs": [
    {
     "data": {
      "text/html": [
       "<div>\n",
       "<style scoped>\n",
       "    .dataframe tbody tr th:only-of-type {\n",
       "        vertical-align: middle;\n",
       "    }\n",
       "\n",
       "    .dataframe tbody tr th {\n",
       "        vertical-align: top;\n",
       "    }\n",
       "\n",
       "    .dataframe thead th {\n",
       "        text-align: right;\n",
       "    }\n",
       "</style>\n",
       "<table border=\"1\" class=\"dataframe\">\n",
       "  <thead>\n",
       "    <tr style=\"text-align: right;\">\n",
       "      <th></th>\n",
       "      <th>date</th>\n",
       "      <th>totalCases</th>\n",
       "      <th>newCases</th>\n",
       "      <th>totalRecoveries</th>\n",
       "      <th>newRecoveries</th>\n",
       "      <th>totalDeaths</th>\n",
       "      <th>newDeaths</th>\n",
       "    </tr>\n",
       "  </thead>\n",
       "  <tbody>\n",
       "    <tr>\n",
       "      <th>0</th>\n",
       "      <td>2020-01-30</td>\n",
       "      <td>0</td>\n",
       "      <td>0</td>\n",
       "      <td>0</td>\n",
       "      <td>0</td>\n",
       "      <td>0</td>\n",
       "      <td>0</td>\n",
       "    </tr>\n",
       "    <tr>\n",
       "      <th>1</th>\n",
       "      <td>2020-01-31</td>\n",
       "      <td>0</td>\n",
       "      <td>0</td>\n",
       "      <td>1</td>\n",
       "      <td>1</td>\n",
       "      <td>0</td>\n",
       "      <td>0</td>\n",
       "    </tr>\n",
       "    <tr>\n",
       "      <th>2</th>\n",
       "      <td>2020-02-01</td>\n",
       "      <td>0</td>\n",
       "      <td>0</td>\n",
       "      <td>1</td>\n",
       "      <td>0</td>\n",
       "      <td>0</td>\n",
       "      <td>0</td>\n",
       "    </tr>\n",
       "    <tr>\n",
       "      <th>3</th>\n",
       "      <td>2020-02-02</td>\n",
       "      <td>0</td>\n",
       "      <td>0</td>\n",
       "      <td>1</td>\n",
       "      <td>0</td>\n",
       "      <td>0</td>\n",
       "      <td>0</td>\n",
       "    </tr>\n",
       "    <tr>\n",
       "      <th>4</th>\n",
       "      <td>2020-02-03</td>\n",
       "      <td>0</td>\n",
       "      <td>0</td>\n",
       "      <td>1</td>\n",
       "      <td>0</td>\n",
       "      <td>0</td>\n",
       "      <td>0</td>\n",
       "    </tr>\n",
       "    <tr>\n",
       "      <th>...</th>\n",
       "      <td>...</td>\n",
       "      <td>...</td>\n",
       "      <td>...</td>\n",
       "      <td>...</td>\n",
       "      <td>...</td>\n",
       "      <td>...</td>\n",
       "      <td>...</td>\n",
       "    </tr>\n",
       "    <tr>\n",
       "      <th>115</th>\n",
       "      <td>2020-05-24</td>\n",
       "      <td>602</td>\n",
       "      <td>19</td>\n",
       "      <td>88</td>\n",
       "      <td>17</td>\n",
       "      <td>4</td>\n",
       "      <td>0</td>\n",
       "    </tr>\n",
       "    <tr>\n",
       "      <th>116</th>\n",
       "      <td>2020-05-25</td>\n",
       "      <td>681</td>\n",
       "      <td>79</td>\n",
       "      <td>113</td>\n",
       "      <td>25</td>\n",
       "      <td>4</td>\n",
       "      <td>0</td>\n",
       "    </tr>\n",
       "    <tr>\n",
       "      <th>117</th>\n",
       "      <td>2020-05-26</td>\n",
       "      <td>771</td>\n",
       "      <td>90</td>\n",
       "      <td>155</td>\n",
       "      <td>42</td>\n",
       "      <td>4</td>\n",
       "      <td>0</td>\n",
       "    </tr>\n",
       "    <tr>\n",
       "      <th>118</th>\n",
       "      <td>2020-05-27</td>\n",
       "      <td>771</td>\n",
       "      <td>0</td>\n",
       "      <td>155</td>\n",
       "      <td>0</td>\n",
       "      <td>4</td>\n",
       "      <td>0</td>\n",
       "    </tr>\n",
       "    <tr>\n",
       "      <th>119</th>\n",
       "      <td>2020-05-28</td>\n",
       "      <td>771</td>\n",
       "      <td>0</td>\n",
       "      <td>155</td>\n",
       "      <td>0</td>\n",
       "      <td>4</td>\n",
       "      <td>0</td>\n",
       "    </tr>\n",
       "  </tbody>\n",
       "</table>\n",
       "<p>120 rows × 7 columns</p>\n",
       "</div>"
      ],
      "text/plain": [
       "          date  totalCases  newCases  totalRecoveries  newRecoveries  \\\n",
       "0   2020-01-30           0         0                0              0   \n",
       "1   2020-01-31           0         0                1              1   \n",
       "2   2020-02-01           0         0                1              0   \n",
       "3   2020-02-02           0         0                1              0   \n",
       "4   2020-02-03           0         0                1              0   \n",
       "..         ...         ...       ...              ...            ...   \n",
       "115 2020-05-24         602        19               88             17   \n",
       "116 2020-05-25         681        79              113             25   \n",
       "117 2020-05-26         771        90              155             42   \n",
       "118 2020-05-27         771         0              155              0   \n",
       "119 2020-05-28         771         0              155              0   \n",
       "\n",
       "     totalDeaths  newDeaths  \n",
       "0              0          0  \n",
       "1              0          0  \n",
       "2              0          0  \n",
       "3              0          0  \n",
       "4              0          0  \n",
       "..           ...        ...  \n",
       "115            4          0  \n",
       "116            4          0  \n",
       "117            4          0  \n",
       "118            4          0  \n",
       "119            4          0  \n",
       "\n",
       "[120 rows x 7 columns]"
      ]
     },
     "execution_count": 228,
     "metadata": {},
     "output_type": "execute_result"
    }
   ],
   "source": [
    "df"
   ]
  },
  {
   "cell_type": "code",
   "execution_count": 229,
   "metadata": {},
   "outputs": [],
   "source": [
    "import matplotlib.pyplot as plt\n",
    "import seaborn as sns"
   ]
  },
  {
   "cell_type": "code",
   "execution_count": 230,
   "metadata": {},
   "outputs": [
    {
     "data": {
      "text/plain": [
       "Index(['date', 'totalCases', 'newCases', 'totalRecoveries', 'newRecoveries',\n",
       "       'totalDeaths', 'newDeaths'],\n",
       "      dtype='object')"
      ]
     },
     "execution_count": 230,
     "metadata": {},
     "output_type": "execute_result"
    }
   ],
   "source": [
    "#Checking the columns of DataFrame\n",
    "df.columns"
   ]
  },
  {
   "cell_type": "code",
   "execution_count": 231,
   "metadata": {},
   "outputs": [
    {
     "data": {
      "text/html": [
       "<div>\n",
       "<style scoped>\n",
       "    .dataframe tbody tr th:only-of-type {\n",
       "        vertical-align: middle;\n",
       "    }\n",
       "\n",
       "    .dataframe tbody tr th {\n",
       "        vertical-align: top;\n",
       "    }\n",
       "\n",
       "    .dataframe thead th {\n",
       "        text-align: right;\n",
       "    }\n",
       "</style>\n",
       "<table border=\"1\" class=\"dataframe\">\n",
       "  <thead>\n",
       "    <tr style=\"text-align: right;\">\n",
       "      <th></th>\n",
       "      <th>date</th>\n",
       "      <th>totalCases</th>\n",
       "      <th>newCases</th>\n",
       "      <th>totalRecoveries</th>\n",
       "      <th>newRecoveries</th>\n",
       "      <th>totalDeaths</th>\n",
       "      <th>newDeaths</th>\n",
       "    </tr>\n",
       "  </thead>\n",
       "  <tbody>\n",
       "    <tr>\n",
       "      <th>0</th>\n",
       "      <td>2020-01-30</td>\n",
       "      <td>0</td>\n",
       "      <td>0</td>\n",
       "      <td>0</td>\n",
       "      <td>0</td>\n",
       "      <td>0</td>\n",
       "      <td>0</td>\n",
       "    </tr>\n",
       "    <tr>\n",
       "      <th>1</th>\n",
       "      <td>2020-01-31</td>\n",
       "      <td>0</td>\n",
       "      <td>0</td>\n",
       "      <td>1</td>\n",
       "      <td>1</td>\n",
       "      <td>0</td>\n",
       "      <td>0</td>\n",
       "    </tr>\n",
       "    <tr>\n",
       "      <th>2</th>\n",
       "      <td>2020-02-01</td>\n",
       "      <td>0</td>\n",
       "      <td>0</td>\n",
       "      <td>1</td>\n",
       "      <td>0</td>\n",
       "      <td>0</td>\n",
       "      <td>0</td>\n",
       "    </tr>\n",
       "    <tr>\n",
       "      <th>3</th>\n",
       "      <td>2020-02-02</td>\n",
       "      <td>0</td>\n",
       "      <td>0</td>\n",
       "      <td>1</td>\n",
       "      <td>0</td>\n",
       "      <td>0</td>\n",
       "      <td>0</td>\n",
       "    </tr>\n",
       "    <tr>\n",
       "      <th>4</th>\n",
       "      <td>2020-02-03</td>\n",
       "      <td>0</td>\n",
       "      <td>0</td>\n",
       "      <td>1</td>\n",
       "      <td>0</td>\n",
       "      <td>0</td>\n",
       "      <td>0</td>\n",
       "    </tr>\n",
       "  </tbody>\n",
       "</table>\n",
       "</div>"
      ],
      "text/plain": [
       "        date  totalCases  newCases  totalRecoveries  newRecoveries  \\\n",
       "0 2020-01-30           0         0                0              0   \n",
       "1 2020-01-31           0         0                1              1   \n",
       "2 2020-02-01           0         0                1              0   \n",
       "3 2020-02-02           0         0                1              0   \n",
       "4 2020-02-03           0         0                1              0   \n",
       "\n",
       "   totalDeaths  newDeaths  \n",
       "0            0          0  \n",
       "1            0          0  \n",
       "2            0          0  \n",
       "3            0          0  \n",
       "4            0          0  "
      ]
     },
     "execution_count": 231,
     "metadata": {},
     "output_type": "execute_result"
    }
   ],
   "source": [
    "df.head()"
   ]
  },
  {
   "cell_type": "code",
   "execution_count": 233,
   "metadata": {},
   "outputs": [
    {
     "data": {
      "text/plain": [
       "<seaborn.axisgrid.FacetGrid at 0x2d02d2da748>"
      ]
     },
     "execution_count": 233,
     "metadata": {},
     "output_type": "execute_result"
    },
    {
     "data": {
      "image/png": "[encoded data removed]",
      "text/plain": [
       "<Figure size 360x360 with 1 Axes>"
      ]
     },
     "metadata": {
      "needs_background": "light"
     },
     "output_type": "display_data"
    }
   ],
   "source": [
    "# Relational Plot \n",
    "sns.relplot(x=\"totalCases\",y=\"totalRecoveries\",data=df)"
   ]
  },
  {
   "cell_type": "code",
   "execution_count": 234,
   "metadata": {},
   "outputs": [
    {
     "data": {
      "text/plain": [
       "<seaborn.axisgrid.FacetGrid at 0x2d02d36a748>"
      ]
     },
     "execution_count": 234,
     "metadata": {},
     "output_type": "execute_result"
    },
    {
     "data": {
      "image/png": "[encoded data removed]",
      "text/plain": [
       "<Figure size 452.125x360 with 1 Axes>"
      ]
     },
     "metadata": {
      "needs_background": "light"
     },
     "output_type": "display_data"
    }
   ],
   "source": [
    "sns.relplot(x=\"totalCases\",y=\"newDeaths\",data=df,hue=\"newDeaths\")"
   ]
  },
  {
   "cell_type": "code",
   "execution_count": 235,
   "metadata": {},
   "outputs": [
    {
     "data": {
      "text/plain": [
       "<seaborn.axisgrid.PairGrid at 0x2d02d3d0708>"
      ]
     },
     "execution_count": 235,
     "metadata": {},
     "output_type": "execute_result"
    },
    {
     "data": {
      "image/png": "[encoded data removed]",
      "text/plain": [
       "<Figure size 1080x1080 with 42 Axes>"
      ]
     },
     "metadata": {
      "needs_background": "light"
     },
     "output_type": "display_data"
    }
   ],
   "source": [
    "#Pairplot\n",
    "sns.pairplot(df)"
   ]
  },
  {
   "cell_type": "code",
   "execution_count": 238,
   "metadata": {},
   "outputs": [
    {
     "data": {
      "text/plain": [
       "<seaborn.axisgrid.FacetGrid at 0x2d02fc73b88>"
      ]
     },
     "execution_count": 238,
     "metadata": {},
     "output_type": "execute_result"
    },
    {
     "data": {
      "image/png": "[encoded data removed]",
      "text/plain": [
       "<Figure size 360x360 with 1 Axes>"
      ]
     },
     "metadata": {
      "needs_background": "light"
     },
     "output_type": "display_data"
    }
   ],
   "source": [
    "sns.relplot(x=\"totalCases\",y=\"totalRecoveries\",kind=\"line\",data=df)"
   ]
  },
  {
   "cell_type": "code",
   "execution_count": 240,
   "metadata": {},
   "outputs": [
    {
     "data": {
      "text/plain": [
       "<seaborn.axisgrid.FacetGrid at 0x2d02e721a88>"
      ]
     },
     "execution_count": 240,
     "metadata": {},
     "output_type": "execute_result"
    },
    {
     "data": {
      "image/png": "[encoded data removed]",
      "text/plain": [
       "<Figure size 360x360 with 1 Axes>"
      ]
     },
     "metadata": {
      "needs_background": "light"
     },
     "output_type": "display_data"
    }
   ],
   "source": [
    "#Categorical Plot\n",
    "sns.catplot(x=\"newCases\",y=\"totalCases\",data=df)"
   ]
  },
  {
   "cell_type": "markdown",
   "metadata": {},
   "source": [
    "https://seaborn.pydata.org/tutorial/relational.html"
   ]
  },
  {
   "cell_type": "markdown",
   "metadata": {},
   "source": [
    "## Matplotlib"
   ]
  },
  {
   "cell_type": "code",
   "execution_count": 241,
   "metadata": {},
   "outputs": [],
   "source": [
    "import matplotlib.pyplot as plt"
   ]
  },
  {
   "cell_type": "code",
   "execution_count": 242,
   "metadata": {},
   "outputs": [
    {
     "data": {
      "text/html": [
       "<div>\n",
       "<style scoped>\n",
       "    .dataframe tbody tr th:only-of-type {\n",
       "        vertical-align: middle;\n",
       "    }\n",
       "\n",
       "    .dataframe tbody tr th {\n",
       "        vertical-align: top;\n",
       "    }\n",
       "\n",
       "    .dataframe thead th {\n",
       "        text-align: right;\n",
       "    }\n",
       "</style>\n",
       "<table border=\"1\" class=\"dataframe\">\n",
       "  <thead>\n",
       "    <tr style=\"text-align: right;\">\n",
       "      <th></th>\n",
       "      <th>date</th>\n",
       "      <th>totalCases</th>\n",
       "      <th>newCases</th>\n",
       "      <th>totalRecoveries</th>\n",
       "      <th>newRecoveries</th>\n",
       "      <th>totalDeaths</th>\n",
       "      <th>newDeaths</th>\n",
       "    </tr>\n",
       "  </thead>\n",
       "  <tbody>\n",
       "    <tr>\n",
       "      <th>0</th>\n",
       "      <td>2020-01-30</td>\n",
       "      <td>0</td>\n",
       "      <td>0</td>\n",
       "      <td>0</td>\n",
       "      <td>0</td>\n",
       "      <td>0</td>\n",
       "      <td>0</td>\n",
       "    </tr>\n",
       "    <tr>\n",
       "      <th>1</th>\n",
       "      <td>2020-01-31</td>\n",
       "      <td>0</td>\n",
       "      <td>0</td>\n",
       "      <td>1</td>\n",
       "      <td>1</td>\n",
       "      <td>0</td>\n",
       "      <td>0</td>\n",
       "    </tr>\n",
       "    <tr>\n",
       "      <th>2</th>\n",
       "      <td>2020-02-01</td>\n",
       "      <td>0</td>\n",
       "      <td>0</td>\n",
       "      <td>1</td>\n",
       "      <td>0</td>\n",
       "      <td>0</td>\n",
       "      <td>0</td>\n",
       "    </tr>\n",
       "    <tr>\n",
       "      <th>3</th>\n",
       "      <td>2020-02-02</td>\n",
       "      <td>0</td>\n",
       "      <td>0</td>\n",
       "      <td>1</td>\n",
       "      <td>0</td>\n",
       "      <td>0</td>\n",
       "      <td>0</td>\n",
       "    </tr>\n",
       "    <tr>\n",
       "      <th>4</th>\n",
       "      <td>2020-02-03</td>\n",
       "      <td>0</td>\n",
       "      <td>0</td>\n",
       "      <td>1</td>\n",
       "      <td>0</td>\n",
       "      <td>0</td>\n",
       "      <td>0</td>\n",
       "    </tr>\n",
       "    <tr>\n",
       "      <th>...</th>\n",
       "      <td>...</td>\n",
       "      <td>...</td>\n",
       "      <td>...</td>\n",
       "      <td>...</td>\n",
       "      <td>...</td>\n",
       "      <td>...</td>\n",
       "      <td>...</td>\n",
       "    </tr>\n",
       "    <tr>\n",
       "      <th>115</th>\n",
       "      <td>2020-05-24</td>\n",
       "      <td>602</td>\n",
       "      <td>19</td>\n",
       "      <td>88</td>\n",
       "      <td>17</td>\n",
       "      <td>4</td>\n",
       "      <td>0</td>\n",
       "    </tr>\n",
       "    <tr>\n",
       "      <th>116</th>\n",
       "      <td>2020-05-25</td>\n",
       "      <td>681</td>\n",
       "      <td>79</td>\n",
       "      <td>113</td>\n",
       "      <td>25</td>\n",
       "      <td>4</td>\n",
       "      <td>0</td>\n",
       "    </tr>\n",
       "    <tr>\n",
       "      <th>117</th>\n",
       "      <td>2020-05-26</td>\n",
       "      <td>771</td>\n",
       "      <td>90</td>\n",
       "      <td>155</td>\n",
       "      <td>42</td>\n",
       "      <td>4</td>\n",
       "      <td>0</td>\n",
       "    </tr>\n",
       "    <tr>\n",
       "      <th>118</th>\n",
       "      <td>2020-05-27</td>\n",
       "      <td>771</td>\n",
       "      <td>0</td>\n",
       "      <td>155</td>\n",
       "      <td>0</td>\n",
       "      <td>4</td>\n",
       "      <td>0</td>\n",
       "    </tr>\n",
       "    <tr>\n",
       "      <th>119</th>\n",
       "      <td>2020-05-28</td>\n",
       "      <td>771</td>\n",
       "      <td>0</td>\n",
       "      <td>155</td>\n",
       "      <td>0</td>\n",
       "      <td>4</td>\n",
       "      <td>0</td>\n",
       "    </tr>\n",
       "  </tbody>\n",
       "</table>\n",
       "<p>120 rows × 7 columns</p>\n",
       "</div>"
      ],
      "text/plain": [
       "          date  totalCases  newCases  totalRecoveries  newRecoveries  \\\n",
       "0   2020-01-30           0         0                0              0   \n",
       "1   2020-01-31           0         0                1              1   \n",
       "2   2020-02-01           0         0                1              0   \n",
       "3   2020-02-02           0         0                1              0   \n",
       "4   2020-02-03           0         0                1              0   \n",
       "..         ...         ...       ...              ...            ...   \n",
       "115 2020-05-24         602        19               88             17   \n",
       "116 2020-05-25         681        79              113             25   \n",
       "117 2020-05-26         771        90              155             42   \n",
       "118 2020-05-27         771         0              155              0   \n",
       "119 2020-05-28         771         0              155              0   \n",
       "\n",
       "     totalDeaths  newDeaths  \n",
       "0              0          0  \n",
       "1              0          0  \n",
       "2              0          0  \n",
       "3              0          0  \n",
       "4              0          0  \n",
       "..           ...        ...  \n",
       "115            4          0  \n",
       "116            4          0  \n",
       "117            4          0  \n",
       "118            4          0  \n",
       "119            4          0  \n",
       "\n",
       "[120 rows x 7 columns]"
      ]
     },
     "execution_count": 242,
     "metadata": {},
     "output_type": "execute_result"
    }
   ],
   "source": [
    "df"
   ]
  },
  {
   "cell_type": "code",
   "execution_count": 243,
   "metadata": {},
   "outputs": [
    {
     "data": {
      "text/plain": [
       "<function matplotlib.pyplot.show(*args, **kw)>"
      ]
     },
     "execution_count": 243,
     "metadata": {},
     "output_type": "execute_result"
    },
    {
     "data": {
      "image/png": "[encoded data removed]",
      "text/plain": [
       "<Figure size 432x288 with 1 Axes>"
      ]
     },
     "metadata": {
      "needs_background": "light"
     },
     "output_type": "display_data"
    }
   ],
   "source": [
    "#Line plot\n",
    "plt.plot(df['totalCases'],df['totalRecoveries'])\n",
    "plt.show"
   ]
  },
  {
   "cell_type": "code",
   "execution_count": 244,
   "metadata": {},
   "outputs": [
    {
     "data": {
      "text/plain": [
       "<function matplotlib.pyplot.show(*args, **kw)>"
      ]
     },
     "execution_count": 244,
     "metadata": {},
     "output_type": "execute_result"
    },
    {
     "data": {
      "image/png": "[encoded data removed]",
      "text/plain": [
       "<Figure size 432x288 with 1 Axes>"
      ]
     },
     "metadata": {
      "needs_background": "light"
     },
     "output_type": "display_data"
    }
   ],
   "source": [
    "#Adding Label and Title\n",
    "plt.plot(df['totalCases'],df['date'])\n",
    "plt.title(\"Analysis of Corona Data\")\n",
    "plt.xlabel('Total Cases')\n",
    "plt.ylabel('date')\n",
    "plt.show"
   ]
  },
  {
   "cell_type": "code",
   "execution_count": 245,
   "metadata": {},
   "outputs": [
    {
     "data": {
      "text/html": [
       "<div>\n",
       "<style scoped>\n",
       "    .dataframe tbody tr th:only-of-type {\n",
       "        vertical-align: middle;\n",
       "    }\n",
       "\n",
       "    .dataframe tbody tr th {\n",
       "        vertical-align: top;\n",
       "    }\n",
       "\n",
       "    .dataframe thead th {\n",
       "        text-align: right;\n",
       "    }\n",
       "</style>\n",
       "<table border=\"1\" class=\"dataframe\">\n",
       "  <thead>\n",
       "    <tr style=\"text-align: right;\">\n",
       "      <th></th>\n",
       "      <th>date</th>\n",
       "      <th>totalCases</th>\n",
       "      <th>newCases</th>\n",
       "      <th>totalRecoveries</th>\n",
       "      <th>newRecoveries</th>\n",
       "      <th>totalDeaths</th>\n",
       "      <th>newDeaths</th>\n",
       "    </tr>\n",
       "  </thead>\n",
       "  <tbody>\n",
       "    <tr>\n",
       "      <th>0</th>\n",
       "      <td>2020-01-30</td>\n",
       "      <td>0</td>\n",
       "      <td>0</td>\n",
       "      <td>0</td>\n",
       "      <td>0</td>\n",
       "      <td>0</td>\n",
       "      <td>0</td>\n",
       "    </tr>\n",
       "    <tr>\n",
       "      <th>1</th>\n",
       "      <td>2020-01-31</td>\n",
       "      <td>0</td>\n",
       "      <td>0</td>\n",
       "      <td>1</td>\n",
       "      <td>1</td>\n",
       "      <td>0</td>\n",
       "      <td>0</td>\n",
       "    </tr>\n",
       "    <tr>\n",
       "      <th>2</th>\n",
       "      <td>2020-02-01</td>\n",
       "      <td>0</td>\n",
       "      <td>0</td>\n",
       "      <td>1</td>\n",
       "      <td>0</td>\n",
       "      <td>0</td>\n",
       "      <td>0</td>\n",
       "    </tr>\n",
       "    <tr>\n",
       "      <th>3</th>\n",
       "      <td>2020-02-02</td>\n",
       "      <td>0</td>\n",
       "      <td>0</td>\n",
       "      <td>1</td>\n",
       "      <td>0</td>\n",
       "      <td>0</td>\n",
       "      <td>0</td>\n",
       "    </tr>\n",
       "    <tr>\n",
       "      <th>4</th>\n",
       "      <td>2020-02-03</td>\n",
       "      <td>0</td>\n",
       "      <td>0</td>\n",
       "      <td>1</td>\n",
       "      <td>0</td>\n",
       "      <td>0</td>\n",
       "      <td>0</td>\n",
       "    </tr>\n",
       "    <tr>\n",
       "      <th>...</th>\n",
       "      <td>...</td>\n",
       "      <td>...</td>\n",
       "      <td>...</td>\n",
       "      <td>...</td>\n",
       "      <td>...</td>\n",
       "      <td>...</td>\n",
       "      <td>...</td>\n",
       "    </tr>\n",
       "    <tr>\n",
       "      <th>115</th>\n",
       "      <td>2020-05-24</td>\n",
       "      <td>602</td>\n",
       "      <td>19</td>\n",
       "      <td>88</td>\n",
       "      <td>17</td>\n",
       "      <td>4</td>\n",
       "      <td>0</td>\n",
       "    </tr>\n",
       "    <tr>\n",
       "      <th>116</th>\n",
       "      <td>2020-05-25</td>\n",
       "      <td>681</td>\n",
       "      <td>79</td>\n",
       "      <td>113</td>\n",
       "      <td>25</td>\n",
       "      <td>4</td>\n",
       "      <td>0</td>\n",
       "    </tr>\n",
       "    <tr>\n",
       "      <th>117</th>\n",
       "      <td>2020-05-26</td>\n",
       "      <td>771</td>\n",
       "      <td>90</td>\n",
       "      <td>155</td>\n",
       "      <td>42</td>\n",
       "      <td>4</td>\n",
       "      <td>0</td>\n",
       "    </tr>\n",
       "    <tr>\n",
       "      <th>118</th>\n",
       "      <td>2020-05-27</td>\n",
       "      <td>771</td>\n",
       "      <td>0</td>\n",
       "      <td>155</td>\n",
       "      <td>0</td>\n",
       "      <td>4</td>\n",
       "      <td>0</td>\n",
       "    </tr>\n",
       "    <tr>\n",
       "      <th>119</th>\n",
       "      <td>2020-05-28</td>\n",
       "      <td>771</td>\n",
       "      <td>0</td>\n",
       "      <td>155</td>\n",
       "      <td>0</td>\n",
       "      <td>4</td>\n",
       "      <td>0</td>\n",
       "    </tr>\n",
       "  </tbody>\n",
       "</table>\n",
       "<p>120 rows × 7 columns</p>\n",
       "</div>"
      ],
      "text/plain": [
       "          date  totalCases  newCases  totalRecoveries  newRecoveries  \\\n",
       "0   2020-01-30           0         0                0              0   \n",
       "1   2020-01-31           0         0                1              1   \n",
       "2   2020-02-01           0         0                1              0   \n",
       "3   2020-02-02           0         0                1              0   \n",
       "4   2020-02-03           0         0                1              0   \n",
       "..         ...         ...       ...              ...            ...   \n",
       "115 2020-05-24         602        19               88             17   \n",
       "116 2020-05-25         681        79              113             25   \n",
       "117 2020-05-26         771        90              155             42   \n",
       "118 2020-05-27         771         0              155              0   \n",
       "119 2020-05-28         771         0              155              0   \n",
       "\n",
       "     totalDeaths  newDeaths  \n",
       "0              0          0  \n",
       "1              0          0  \n",
       "2              0          0  \n",
       "3              0          0  \n",
       "4              0          0  \n",
       "..           ...        ...  \n",
       "115            4          0  \n",
       "116            4          0  \n",
       "117            4          0  \n",
       "118            4          0  \n",
       "119            4          0  \n",
       "\n",
       "[120 rows x 7 columns]"
      ]
     },
     "execution_count": 245,
     "metadata": {},
     "output_type": "execute_result"
    }
   ],
   "source": [
    "df"
   ]
  },
  {
   "cell_type": "code",
   "execution_count": 246,
   "metadata": {},
   "outputs": [
    {
     "data": {
      "text/plain": [
       "<function matplotlib.pyplot.show(*args, **kw)>"
      ]
     },
     "execution_count": 246,
     "metadata": {},
     "output_type": "execute_result"
    },
    {
     "data": {
      "image/png": "[encoded data removed]",
      "text/plain": [
       "<Figure size 432x288 with 1 Axes>"
      ]
     },
     "metadata": {
      "needs_background": "light"
     },
     "output_type": "display_data"
    }
   ],
   "source": [
    "#Adding Label and Title\n",
    "# x,y,z\n",
    "plt.plot(df['totalCases'],df['totalDeaths'])\n",
    "plt.plot(df['totalCases'],df['totalRecoveries'])\n",
    "plt.title(\"Analysis of Corona Data\")\n",
    "plt.xlabel('Total Cases')\n",
    "plt.ylabel('Total Deaths')\n",
    "\n",
    "plt.show"
   ]
  },
  {
   "cell_type": "code",
   "execution_count": 247,
   "metadata": {},
   "outputs": [
    {
     "data": {
      "text/plain": [
       "<function matplotlib.pyplot.show(*args, **kw)>"
      ]
     },
     "execution_count": 247,
     "metadata": {},
     "output_type": "execute_result"
    },
    {
     "data": {
      "image/png": "[encoded data removed]",
      "text/plain": [
       "<Figure size 432x288 with 1 Axes>"
      ]
     },
     "metadata": {
      "needs_background": "light"
     },
     "output_type": "display_data"
    }
   ],
   "source": [
    "#Adding Legends\n",
    "plt.plot(df['totalCases'],df['totalDeaths'])\n",
    "plt.plot(df['totalCases'],df['totalRecoveries'])\n",
    "plt.title(\"Analysis of Corona Data\")\n",
    "plt.xlabel('Total Cases')\n",
    "plt.ylabel('Total Deaths')\n",
    "plt.legend(['Total Deaths','Total Recoveries'])\n",
    "plt.show"
   ]
  },
  {
   "cell_type": "markdown",
   "metadata": {},
   "source": [
    "## https://matplotlib.org/3.2.1/contents.html"
   ]
  },
  {
   "cell_type": "raw",
   "metadata": {},
   "source": [
    "Regression or Support Vector Machine"
   ]
  }
 ],
 "metadata": {
  "kernelspec": {
   "display_name": "Python 3",
   "language": "python",
   "name": "python3"
  },
  "language_info": {
   "codemirror_mode": {
    "name": "ipython",
    "version": 3
   },
   "file_extension": ".py",
   "mimetype": "text/x-python",
   "name": "python",
   "nbconvert_exporter": "python",
   "pygments_lexer": "ipython3",
   "version": "3.7.7"
  }
 },
 "nbformat": 4,
 "nbformat_minor": 4
}
